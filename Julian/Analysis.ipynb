{
 "cells": [
  {
   "cell_type": "code",
   "execution_count": 108,
   "metadata": {},
   "outputs": [],
   "source": [
    "%matplotlib inline\n",
    "import matplotlib.pyplot as plt\n",
    "import re\n",
    "import pandas as pd\n",
    "import numpy as np\n",
    "import os\n",
    "import sys\n",
    "import warnings\n",
    "from datetime import datetime\n",
    "warnings.filterwarnings(\"ignore\")"
   ]
  },
  {
   "cell_type": "code",
   "execution_count": 109,
   "metadata": {},
   "outputs": [],
   "source": [
    "def autolabelint(ax,rects,fsize,col):\n",
    "    for rect in rects:\n",
    "        ax.text(rect.get_x() + rect.get_width()/2 ,\n",
    "            rect.get_height(),\n",
    "            '%d' % int(rect.get_height()),\n",
    "            ha='center',\n",
    "            va='bottom',\n",
    "            fontweight='bold',\n",
    "            color = col,\n",
    "            fontsize = ((fsize[1]+fsize[0])/2) + 5\n",
    "           )"
   ]
  },
  {
   "cell_type": "code",
   "execution_count": 110,
   "metadata": {},
   "outputs": [],
   "source": [
    "path = os.path.abspath(os.getcwd())"
   ]
  },
  {
   "cell_type": "markdown",
   "metadata": {},
   "source": [
    "Se carga el test y el train usando el path relativo."
   ]
  },
  {
   "cell_type": "code",
   "execution_count": 111,
   "metadata": {},
   "outputs": [],
   "source": [
    "train = pd.read_csv(path + '/train.csv', low_memory=True)\n",
    "test = pd.read_csv(path + '/test.csv', low_memory=True)"
   ]
  },
  {
   "cell_type": "code",
   "execution_count": 112,
   "metadata": {},
   "outputs": [
    {
     "data": {
      "text/plain": [
       "((7613, 5), (3263, 4))"
      ]
     },
     "execution_count": 112,
     "metadata": {},
     "output_type": "execute_result"
    }
   ],
   "source": [
    "train.shape , test.shape"
   ]
  },
  {
   "cell_type": "markdown",
   "metadata": {},
   "source": [
    "Una relacion de datos de 2,33 a 1 entre el train y el test."
   ]
  },
  {
   "cell_type": "code",
   "execution_count": 113,
   "metadata": {},
   "outputs": [
    {
     "data": {
      "text/plain": [
       "2.3331290223720504"
      ]
     },
     "execution_count": 113,
     "metadata": {},
     "output_type": "execute_result"
    }
   ],
   "source": [
    "train.shape[0]/test.shape[0]\n",
    "###### una relacion de datos de casi 2 y medio a 1"
   ]
  },
  {
   "cell_type": "markdown",
   "metadata": {},
   "source": [
    "Entendiendo los datos."
   ]
  },
  {
   "cell_type": "code",
   "execution_count": 7,
   "metadata": {},
   "outputs": [
    {
     "data": {
      "text/plain": [
       "(Index(['id', 'keyword', 'location', 'text', 'target'], dtype='object'),\n",
       " Index(['id', 'keyword', 'location', 'text'], dtype='object'))"
      ]
     },
     "execution_count": 7,
     "metadata": {},
     "output_type": "execute_result"
    }
   ],
   "source": [
    "train.columns, test.columns"
   ]
  },
  {
   "cell_type": "code",
   "execution_count": 8,
   "metadata": {},
   "outputs": [
    {
     "data": {
      "text/plain": [
       "(id           int64\n",
       " keyword     object\n",
       " location    object\n",
       " text        object\n",
       " target       int64\n",
       " dtype: object,\n",
       " id           int64\n",
       " keyword     object\n",
       " location    object\n",
       " text        object\n",
       " dtype: object)"
      ]
     },
     "execution_count": 8,
     "metadata": {},
     "output_type": "execute_result"
    }
   ],
   "source": [
    "train.dtypes ,  test.dtypes"
   ]
  },
  {
   "cell_type": "code",
   "execution_count": 9,
   "metadata": {},
   "outputs": [
    {
     "data": {
      "text/plain": [
       "0    1\n",
       "1    1\n",
       "2    1\n",
       "Name: target, dtype: int64"
      ]
     },
     "execution_count": 9,
     "metadata": {},
     "output_type": "execute_result"
    }
   ],
   "source": [
    "train['target'][0:3]"
   ]
  },
  {
   "cell_type": "code",
   "execution_count": 10,
   "metadata": {},
   "outputs": [
    {
     "data": {
      "text/plain": [
       "False"
      ]
     },
     "execution_count": 10,
     "metadata": {},
     "output_type": "execute_result"
    }
   ],
   "source": [
    "train['target'].isna().any()"
   ]
  },
  {
   "cell_type": "code",
   "execution_count": 11,
   "metadata": {},
   "outputs": [
    {
     "data": {
      "text/plain": [
       "0    4342\n",
       "1    3271\n",
       "Name: target, dtype: int64"
      ]
     },
     "execution_count": 11,
     "metadata": {},
     "output_type": "execute_result"
    }
   ],
   "source": [
    "train['target'].value_counts()"
   ]
  },
  {
   "cell_type": "code",
   "execution_count": 12,
   "metadata": {},
   "outputs": [],
   "source": [
    "test['target'] = 2"
   ]
  },
  {
   "cell_type": "code",
   "execution_count": 13,
   "metadata": {},
   "outputs": [],
   "source": [
    "totaldata = pd.concat([train,test])"
   ]
  },
  {
   "cell_type": "code",
   "execution_count": 14,
   "metadata": {},
   "outputs": [
    {
     "data": {
      "text/plain": [
       "id          False\n",
       "keyword      True\n",
       "location     True\n",
       "text        False\n",
       "target      False\n",
       "dtype: bool"
      ]
     },
     "execution_count": 14,
     "metadata": {},
     "output_type": "execute_result"
    }
   ],
   "source": [
    "totaldata.isna().any()"
   ]
  },
  {
   "cell_type": "markdown",
   "metadata": {},
   "source": [
    "Hay campos nulos en los keywords y las locaciones."
   ]
  },
  {
   "cell_type": "code",
   "execution_count": 15,
   "metadata": {},
   "outputs": [
    {
     "data": {
      "text/plain": [
       "(False    7238\n",
       " True     3638\n",
       " Name: location, dtype: int64,\n",
       " False    5080\n",
       " True     2533\n",
       " Name: location, dtype: int64)"
      ]
     },
     "execution_count": 15,
     "metadata": {},
     "output_type": "execute_result"
    }
   ],
   "source": [
    "totaldata['location'].isna().value_counts() , train['location'].isna().value_counts()"
   ]
  },
  {
   "cell_type": "markdown",
   "metadata": {},
   "source": [
    "Hay muy pocos Nans en las Keywords."
   ]
  },
  {
   "cell_type": "code",
   "execution_count": 16,
   "metadata": {},
   "outputs": [
    {
     "data": {
      "text/plain": [
       "(False    10789\n",
       " True        87\n",
       " Name: keyword, dtype: int64,\n",
       " False    7552\n",
       " True       61\n",
       " Name: keyword, dtype: int64)"
      ]
     },
     "execution_count": 16,
     "metadata": {},
     "output_type": "execute_result"
    }
   ],
   "source": [
    "totaldata['keyword'].isna().value_counts() , train['keyword'].isna().value_counts()"
   ]
  },
  {
   "cell_type": "markdown",
   "metadata": {},
   "source": [
    "Los ids se basan en numeraciones simples"
   ]
  },
  {
   "cell_type": "code",
   "execution_count": 17,
   "metadata": {},
   "outputs": [
    {
     "data": {
      "text/plain": [
       "(0     1\n",
       " 1     4\n",
       " 2     5\n",
       " 3     6\n",
       " 4     7\n",
       " 5     8\n",
       " 6    10\n",
       " 7    13\n",
       " 8    14\n",
       " 9    15\n",
       " Name: id, dtype: int64,\n",
       " 10875,\n",
       " 0)"
      ]
     },
     "execution_count": 17,
     "metadata": {},
     "output_type": "execute_result"
    }
   ],
   "source": [
    "totaldata['id'][0:10] , totaldata['id'].max() , totaldata['id'].min()"
   ]
  },
  {
   "cell_type": "markdown",
   "metadata": {},
   "source": [
    "Analisis de los tweets"
   ]
  },
  {
   "cell_type": "code",
   "execution_count": 18,
   "metadata": {},
   "outputs": [
    {
     "data": {
      "text/plain": [
       "0       Our Deeds are the Reason of this #earthquake M...\n",
       "1                  Forest fire near La Ronge Sask. Canada\n",
       "2       All residents asked to 'shelter in place' are ...\n",
       "3       13,000 people receive #wildfires evacuation or...\n",
       "4       Just got sent this photo from Ruby #Alaska as ...\n",
       "                              ...                        \n",
       "3258    EARTHQUAKE SAFETY LOS ANGELES ÛÒ SAFETY FASTE...\n",
       "3259    Storm in RI worse than last hurricane. My city...\n",
       "3260    Green Line derailment in Chicago http://t.co/U...\n",
       "3261    MEG issues Hazardous Weather Outlook (HWO) htt...\n",
       "3262    #CityofCalgary has activated its Municipal Eme...\n",
       "Name: text, Length: 10876, dtype: object"
      ]
     },
     "execution_count": 18,
     "metadata": {},
     "output_type": "execute_result"
    }
   ],
   "source": [
    "totaldata['text']"
   ]
  },
  {
   "cell_type": "code",
   "execution_count": 19,
   "metadata": {},
   "outputs": [],
   "source": [
    "s = totaldata['text'][1]"
   ]
  },
  {
   "cell_type": "code",
   "execution_count": 20,
   "metadata": {},
   "outputs": [
    {
     "data": {
      "text/plain": [
       "{'1': 2,\n",
       " ' ': 34,\n",
       " 'F': 1,\n",
       " 'o': 4,\n",
       " 'r': 6,\n",
       " 'e': 14,\n",
       " 's': 5,\n",
       " 't': 9,\n",
       " 'f': 3,\n",
       " 'i': 5,\n",
       " 'n': 4,\n",
       " 'a': 11,\n",
       " 'L': 1,\n",
       " 'R': 1,\n",
       " 'g': 1,\n",
       " 'S': 1,\n",
       " 'k': 2,\n",
       " '.': 4,\n",
       " 'C': 1,\n",
       " 'd': 4,\n",
       " '\\n': 2,\n",
       " 'H': 1,\n",
       " 'b': 2,\n",
       " 'u': 2,\n",
       " '#': 1,\n",
       " 'h': 1,\n",
       " 'q': 1,\n",
       " 'c': 2,\n",
       " ',': 2,\n",
       " 'N': 1,\n",
       " 'm': 1,\n",
       " ':': 2,\n",
       " 'x': 1,\n",
       " 'y': 1,\n",
       " 'p': 1,\n",
       " 'j': 1}"
      ]
     },
     "execution_count": 20,
     "metadata": {},
     "output_type": "execute_result"
    }
   ],
   "source": [
    "dict((charac,str(s).count(charac)) for charac in str(s))"
   ]
  },
  {
   "cell_type": "code",
   "execution_count": 21,
   "metadata": {},
   "outputs": [],
   "source": [
    "strain = train['text'].str.cat()"
   ]
  },
  {
   "cell_type": "code",
   "execution_count": 22,
   "metadata": {},
   "outputs": [],
   "source": [
    "tfalse = train.loc[train['target'] == 0]\n",
    "ttrue = train.loc[train['target'] == 1]"
   ]
  },
  {
   "cell_type": "code",
   "execution_count": 23,
   "metadata": {},
   "outputs": [],
   "source": [
    "stfalse = tfalse['text'].str.cat()\n",
    "sttrue = ttrue['text'].str.cat()"
   ]
  },
  {
   "cell_type": "code",
   "execution_count": 24,
   "metadata": {},
   "outputs": [],
   "source": [
    "asciiall = ' !\"#$%&\\'()*+,-./0123456789:;<=>?@ABCDEFGHIJKLMNOPQRSTUVWXYZ[\\\\]^_`abcdefghijklmnopqrstuvwxyz{|}~'"
   ]
  },
  {
   "cell_type": "code",
   "execution_count": 25,
   "metadata": {},
   "outputs": [],
   "source": [
    "chart = pd.DataFrame((char,sttrue.count(char)) for char in asciiall).set_index(0).transpose()"
   ]
  },
  {
   "cell_type": "code",
   "execution_count": 26,
   "metadata": {},
   "outputs": [],
   "source": [
    "charf = pd.DataFrame((char,stfalse.count(char)) for char in asciiall).set_index(0).transpose()"
   ]
  },
  {
   "cell_type": "code",
   "execution_count": 27,
   "metadata": {},
   "outputs": [
    {
     "data": {
      "text/html": [
       "<div>\n",
       "<style scoped>\n",
       "    .dataframe tbody tr th:only-of-type {\n",
       "        vertical-align: middle;\n",
       "    }\n",
       "\n",
       "    .dataframe tbody tr th {\n",
       "        vertical-align: top;\n",
       "    }\n",
       "\n",
       "    .dataframe thead th {\n",
       "        text-align: right;\n",
       "    }\n",
       "</style>\n",
       "<table border=\"1\" class=\"dataframe\">\n",
       "  <thead>\n",
       "    <tr style=\"text-align: right;\">\n",
       "      <th></th>\n",
       "      <th></th>\n",
       "      <th>!</th>\n",
       "      <th>\"</th>\n",
       "      <th>#</th>\n",
       "      <th>$</th>\n",
       "      <th>%</th>\n",
       "      <th>&amp;</th>\n",
       "      <th>'</th>\n",
       "      <th>(</th>\n",
       "      <th>)</th>\n",
       "      <th>...</th>\n",
       "      <th>u</th>\n",
       "      <th>v</th>\n",
       "      <th>w</th>\n",
       "      <th>x</th>\n",
       "      <th>y</th>\n",
       "      <th>z</th>\n",
       "      <th>{</th>\n",
       "      <th>|</th>\n",
       "      <th>}</th>\n",
       "      <th>~</th>\n",
       "    </tr>\n",
       "  </thead>\n",
       "  <tbody>\n",
       "    <tr>\n",
       "      <th>1</th>\n",
       "      <td>59589</td>\n",
       "      <td>843</td>\n",
       "      <td>0</td>\n",
       "      <td>1700</td>\n",
       "      <td>32</td>\n",
       "      <td>19</td>\n",
       "      <td>293</td>\n",
       "      <td>2063</td>\n",
       "      <td>207</td>\n",
       "      <td>229</td>\n",
       "      <td>...</td>\n",
       "      <td>8906</td>\n",
       "      <td>3086</td>\n",
       "      <td>5208</td>\n",
       "      <td>992</td>\n",
       "      <td>6535</td>\n",
       "      <td>830</td>\n",
       "      <td>1</td>\n",
       "      <td>99</td>\n",
       "      <td>2</td>\n",
       "      <td>17</td>\n",
       "    </tr>\n",
       "  </tbody>\n",
       "</table>\n",
       "<p>1 rows × 95 columns</p>\n",
       "</div>"
      ],
      "text/plain": [
       "0           !  \"     #   $   %    &     '    (    )  ...     u     v     w  \\\n",
       "1  59589  843  0  1700  32  19  293  2063  207  229  ...  8906  3086  5208   \n",
       "\n",
       "0    x     y    z  {   |  }   ~  \n",
       "1  992  6535  830  1  99  2  17  \n",
       "\n",
       "[1 rows x 95 columns]"
      ]
     },
     "execution_count": 27,
     "metadata": {},
     "output_type": "execute_result"
    }
   ],
   "source": [
    "charf"
   ]
  },
  {
   "cell_type": "code",
   "execution_count": 28,
   "metadata": {},
   "outputs": [
    {
     "data": {
      "text/html": [
       "<div>\n",
       "<style scoped>\n",
       "    .dataframe tbody tr th:only-of-type {\n",
       "        vertical-align: middle;\n",
       "    }\n",
       "\n",
       "    .dataframe tbody tr th {\n",
       "        vertical-align: top;\n",
       "    }\n",
       "\n",
       "    .dataframe thead th {\n",
       "        text-align: right;\n",
       "    }\n",
       "</style>\n",
       "<table border=\"1\" class=\"dataframe\">\n",
       "  <thead>\n",
       "    <tr style=\"text-align: right;\">\n",
       "      <th></th>\n",
       "      <th></th>\n",
       "      <th>!</th>\n",
       "      <th>\"</th>\n",
       "      <th>#</th>\n",
       "      <th>$</th>\n",
       "      <th>%</th>\n",
       "      <th>&amp;</th>\n",
       "      <th>'</th>\n",
       "      <th>(</th>\n",
       "      <th>)</th>\n",
       "      <th>...</th>\n",
       "      <th>u</th>\n",
       "      <th>v</th>\n",
       "      <th>w</th>\n",
       "      <th>x</th>\n",
       "      <th>y</th>\n",
       "      <th>z</th>\n",
       "      <th>{</th>\n",
       "      <th>|</th>\n",
       "      <th>}</th>\n",
       "      <th>~</th>\n",
       "    </tr>\n",
       "  </thead>\n",
       "  <tbody>\n",
       "    <tr>\n",
       "      <th>1</th>\n",
       "      <td>46452</td>\n",
       "      <td>330</td>\n",
       "      <td>0</td>\n",
       "      <td>1703</td>\n",
       "      <td>12</td>\n",
       "      <td>27</td>\n",
       "      <td>164</td>\n",
       "      <td>1094</td>\n",
       "      <td>142</td>\n",
       "      <td>144</td>\n",
       "      <td>...</td>\n",
       "      <td>6629</td>\n",
       "      <td>2768</td>\n",
       "      <td>3754</td>\n",
       "      <td>885</td>\n",
       "      <td>4167</td>\n",
       "      <td>686</td>\n",
       "      <td>2</td>\n",
       "      <td>53</td>\n",
       "      <td>2</td>\n",
       "      <td>20</td>\n",
       "    </tr>\n",
       "  </tbody>\n",
       "</table>\n",
       "<p>1 rows × 95 columns</p>\n",
       "</div>"
      ],
      "text/plain": [
       "0           !  \"     #   $   %    &     '    (    )  ...     u     v     w  \\\n",
       "1  46452  330  0  1703  12  27  164  1094  142  144  ...  6629  2768  3754   \n",
       "\n",
       "0    x     y    z  {   |  }   ~  \n",
       "1  885  4167  686  2  53  2  20  \n",
       "\n",
       "[1 rows x 95 columns]"
      ]
     },
     "execution_count": 28,
     "metadata": {},
     "output_type": "execute_result"
    }
   ],
   "source": [
    "chart"
   ]
  },
  {
   "cell_type": "code",
   "execution_count": 29,
   "metadata": {},
   "outputs": [],
   "source": [
    "charf = charf.transpose().reset_index()\n",
    "chart = chart.transpose().reset_index()"
   ]
  },
  {
   "cell_type": "code",
   "execution_count": 30,
   "metadata": {},
   "outputs": [],
   "source": [
    "charf.columns = ['char','cant']\n",
    "chart.columns = ['char','cant']"
   ]
  },
  {
   "cell_type": "markdown",
   "metadata": {},
   "source": [
    "Se filtran los caracteres con pocas ocurrencias"
   ]
  },
  {
   "cell_type": "code",
   "execution_count": 31,
   "metadata": {},
   "outputs": [
    {
     "data": {
      "text/plain": [
       "43.56031578947369"
      ]
     },
     "execution_count": 31,
     "metadata": {},
     "output_type": "execute_result"
    }
   ],
   "source": [
    "charf['cant'].mean()/100"
   ]
  },
  {
   "cell_type": "code",
   "execution_count": 32,
   "metadata": {},
   "outputs": [],
   "source": [
    "charf = charf.loc[charf['cant']>(charf['cant'].mean()/100)]"
   ]
  },
  {
   "cell_type": "code",
   "execution_count": 33,
   "metadata": {},
   "outputs": [],
   "source": [
    "chart = chart.loc[chart['cant']>(chart['cant'].mean()/100)]"
   ]
  },
  {
   "cell_type": "code",
   "execution_count": 34,
   "metadata": {},
   "outputs": [
    {
     "data": {
      "text/html": [
       "<div>\n",
       "<style scoped>\n",
       "    .dataframe tbody tr th:only-of-type {\n",
       "        vertical-align: middle;\n",
       "    }\n",
       "\n",
       "    .dataframe tbody tr th {\n",
       "        vertical-align: top;\n",
       "    }\n",
       "\n",
       "    .dataframe thead th {\n",
       "        text-align: right;\n",
       "    }\n",
       "</style>\n",
       "<table border=\"1\" class=\"dataframe\">\n",
       "  <thead>\n",
       "    <tr style=\"text-align: right;\">\n",
       "      <th></th>\n",
       "      <th>char</th>\n",
       "      <th>cant</th>\n",
       "    </tr>\n",
       "  </thead>\n",
       "  <tbody>\n",
       "    <tr>\n",
       "      <th>0</th>\n",
       "      <td></td>\n",
       "      <td>59589</td>\n",
       "    </tr>\n",
       "    <tr>\n",
       "      <th>1</th>\n",
       "      <td>!</td>\n",
       "      <td>843</td>\n",
       "    </tr>\n",
       "    <tr>\n",
       "      <th>3</th>\n",
       "      <td>#</td>\n",
       "      <td>1700</td>\n",
       "    </tr>\n",
       "    <tr>\n",
       "      <th>6</th>\n",
       "      <td>&amp;</td>\n",
       "      <td>293</td>\n",
       "    </tr>\n",
       "    <tr>\n",
       "      <th>7</th>\n",
       "      <td>'</td>\n",
       "      <td>2063</td>\n",
       "    </tr>\n",
       "    <tr>\n",
       "      <th>...</th>\n",
       "      <td>...</td>\n",
       "      <td>...</td>\n",
       "    </tr>\n",
       "    <tr>\n",
       "      <th>87</th>\n",
       "      <td>w</td>\n",
       "      <td>5208</td>\n",
       "    </tr>\n",
       "    <tr>\n",
       "      <th>88</th>\n",
       "      <td>x</td>\n",
       "      <td>992</td>\n",
       "    </tr>\n",
       "    <tr>\n",
       "      <th>89</th>\n",
       "      <td>y</td>\n",
       "      <td>6535</td>\n",
       "    </tr>\n",
       "    <tr>\n",
       "      <th>90</th>\n",
       "      <td>z</td>\n",
       "      <td>830</td>\n",
       "    </tr>\n",
       "    <tr>\n",
       "      <th>92</th>\n",
       "      <td>|</td>\n",
       "      <td>99</td>\n",
       "    </tr>\n",
       "  </tbody>\n",
       "</table>\n",
       "<p>82 rows × 2 columns</p>\n",
       "</div>"
      ],
      "text/plain": [
       "   char   cant\n",
       "0        59589\n",
       "1     !    843\n",
       "3     #   1700\n",
       "6     &    293\n",
       "7     '   2063\n",
       "..  ...    ...\n",
       "87    w   5208\n",
       "88    x    992\n",
       "89    y   6535\n",
       "90    z    830\n",
       "92    |     99\n",
       "\n",
       "[82 rows x 2 columns]"
      ]
     },
     "execution_count": 34,
     "metadata": {},
     "output_type": "execute_result"
    }
   ],
   "source": [
    "charf"
   ]
  },
  {
   "cell_type": "code",
   "execution_count": 35,
   "metadata": {},
   "outputs": [
    {
     "data": {
      "text/html": [
       "<div>\n",
       "<style scoped>\n",
       "    .dataframe tbody tr th:only-of-type {\n",
       "        vertical-align: middle;\n",
       "    }\n",
       "\n",
       "    .dataframe tbody tr th {\n",
       "        vertical-align: top;\n",
       "    }\n",
       "\n",
       "    .dataframe thead th {\n",
       "        text-align: right;\n",
       "    }\n",
       "</style>\n",
       "<table border=\"1\" class=\"dataframe\">\n",
       "  <thead>\n",
       "    <tr style=\"text-align: right;\">\n",
       "      <th></th>\n",
       "      <th>char</th>\n",
       "      <th>cant</th>\n",
       "    </tr>\n",
       "  </thead>\n",
       "  <tbody>\n",
       "    <tr>\n",
       "      <th>0</th>\n",
       "      <td></td>\n",
       "      <td>46452</td>\n",
       "    </tr>\n",
       "    <tr>\n",
       "      <th>1</th>\n",
       "      <td>!</td>\n",
       "      <td>330</td>\n",
       "    </tr>\n",
       "    <tr>\n",
       "      <th>3</th>\n",
       "      <td>#</td>\n",
       "      <td>1703</td>\n",
       "    </tr>\n",
       "    <tr>\n",
       "      <th>6</th>\n",
       "      <td>&amp;</td>\n",
       "      <td>164</td>\n",
       "    </tr>\n",
       "    <tr>\n",
       "      <th>7</th>\n",
       "      <td>'</td>\n",
       "      <td>1094</td>\n",
       "    </tr>\n",
       "    <tr>\n",
       "      <th>...</th>\n",
       "      <td>...</td>\n",
       "      <td>...</td>\n",
       "    </tr>\n",
       "    <tr>\n",
       "      <th>87</th>\n",
       "      <td>w</td>\n",
       "      <td>3754</td>\n",
       "    </tr>\n",
       "    <tr>\n",
       "      <th>88</th>\n",
       "      <td>x</td>\n",
       "      <td>885</td>\n",
       "    </tr>\n",
       "    <tr>\n",
       "      <th>89</th>\n",
       "      <td>y</td>\n",
       "      <td>4167</td>\n",
       "    </tr>\n",
       "    <tr>\n",
       "      <th>90</th>\n",
       "      <td>z</td>\n",
       "      <td>686</td>\n",
       "    </tr>\n",
       "    <tr>\n",
       "      <th>92</th>\n",
       "      <td>|</td>\n",
       "      <td>53</td>\n",
       "    </tr>\n",
       "  </tbody>\n",
       "</table>\n",
       "<p>81 rows × 2 columns</p>\n",
       "</div>"
      ],
      "text/plain": [
       "   char   cant\n",
       "0        46452\n",
       "1     !    330\n",
       "3     #   1703\n",
       "6     &    164\n",
       "7     '   1094\n",
       "..  ...    ...\n",
       "87    w   3754\n",
       "88    x    885\n",
       "89    y   4167\n",
       "90    z    686\n",
       "92    |     53\n",
       "\n",
       "[81 rows x 2 columns]"
      ]
     },
     "execution_count": 35,
     "metadata": {},
     "output_type": "execute_result"
    }
   ],
   "source": [
    "chart"
   ]
  },
  {
   "cell_type": "code",
   "execution_count": 36,
   "metadata": {},
   "outputs": [],
   "source": [
    "caracteres = charf.merge(chart, on='char',how='left').fillna(0)"
   ]
  },
  {
   "cell_type": "code",
   "execution_count": 37,
   "metadata": {},
   "outputs": [],
   "source": [
    "caracteres.columns = ['char','cantf','cantt']"
   ]
  },
  {
   "cell_type": "code",
   "execution_count": 38,
   "metadata": {},
   "outputs": [
    {
     "data": {
      "text/html": [
       "<div>\n",
       "<style scoped>\n",
       "    .dataframe tbody tr th:only-of-type {\n",
       "        vertical-align: middle;\n",
       "    }\n",
       "\n",
       "    .dataframe tbody tr th {\n",
       "        vertical-align: top;\n",
       "    }\n",
       "\n",
       "    .dataframe thead th {\n",
       "        text-align: right;\n",
       "    }\n",
       "</style>\n",
       "<table border=\"1\" class=\"dataframe\">\n",
       "  <thead>\n",
       "    <tr style=\"text-align: right;\">\n",
       "      <th></th>\n",
       "      <th>char</th>\n",
       "      <th>cantf</th>\n",
       "      <th>cantt</th>\n",
       "    </tr>\n",
       "  </thead>\n",
       "  <tbody>\n",
       "    <tr>\n",
       "      <th>0</th>\n",
       "      <td></td>\n",
       "      <td>59589</td>\n",
       "      <td>46452.0</td>\n",
       "    </tr>\n",
       "    <tr>\n",
       "      <th>1</th>\n",
       "      <td>!</td>\n",
       "      <td>843</td>\n",
       "      <td>330.0</td>\n",
       "    </tr>\n",
       "    <tr>\n",
       "      <th>2</th>\n",
       "      <td>#</td>\n",
       "      <td>1700</td>\n",
       "      <td>1703.0</td>\n",
       "    </tr>\n",
       "    <tr>\n",
       "      <th>3</th>\n",
       "      <td>&amp;</td>\n",
       "      <td>293</td>\n",
       "      <td>164.0</td>\n",
       "    </tr>\n",
       "    <tr>\n",
       "      <th>4</th>\n",
       "      <td>'</td>\n",
       "      <td>2063</td>\n",
       "      <td>1094.0</td>\n",
       "    </tr>\n",
       "    <tr>\n",
       "      <th>5</th>\n",
       "      <td>(</td>\n",
       "      <td>207</td>\n",
       "      <td>142.0</td>\n",
       "    </tr>\n",
       "    <tr>\n",
       "      <th>6</th>\n",
       "      <td>)</td>\n",
       "      <td>229</td>\n",
       "      <td>144.0</td>\n",
       "    </tr>\n",
       "    <tr>\n",
       "      <th>7</th>\n",
       "      <td>*</td>\n",
       "      <td>121</td>\n",
       "      <td>58.0</td>\n",
       "    </tr>\n",
       "    <tr>\n",
       "      <th>8</th>\n",
       "      <td>+</td>\n",
       "      <td>57</td>\n",
       "      <td>0.0</td>\n",
       "    </tr>\n",
       "    <tr>\n",
       "      <th>9</th>\n",
       "      <td>-</td>\n",
       "      <td>810</td>\n",
       "      <td>943.0</td>\n",
       "    </tr>\n",
       "  </tbody>\n",
       "</table>\n",
       "</div>"
      ],
      "text/plain": [
       "  char  cantf    cantt\n",
       "0       59589  46452.0\n",
       "1    !    843    330.0\n",
       "2    #   1700   1703.0\n",
       "3    &    293    164.0\n",
       "4    '   2063   1094.0\n",
       "5    (    207    142.0\n",
       "6    )    229    144.0\n",
       "7    *    121     58.0\n",
       "8    +     57      0.0\n",
       "9    -    810    943.0"
      ]
     },
     "execution_count": 38,
     "metadata": {},
     "output_type": "execute_result"
    }
   ],
   "source": [
    "caracteres.head(10)"
   ]
  },
  {
   "cell_type": "markdown",
   "metadata": {},
   "source": [
    "Cantidad de tweets Verdaderos VS Falsos"
   ]
  },
  {
   "cell_type": "code",
   "execution_count": 39,
   "metadata": {},
   "outputs": [
    {
     "data": {
      "text/plain": [
       "(3271, 4342)"
      ]
     },
     "execution_count": 39,
     "metadata": {},
     "output_type": "execute_result"
    }
   ],
   "source": [
    "ttrue.shape[0],tfalse.shape[0]"
   ]
  },
  {
   "cell_type": "code",
   "execution_count": 40,
   "metadata": {},
   "outputs": [],
   "source": [
    "toy1 = ttrue.shape[0],tfalse.shape[0]\n",
    "tox = ['Verdaderos', 'Falsos']"
   ]
  },
  {
   "cell_type": "code",
   "execution_count": 41,
   "metadata": {},
   "outputs": [
    {
     "data": {
      "image/png": "[encoded data removed]",
      "text/plain": [
       "<Figure size 360x360 with 1 Axes>"
      ]
     },
     "metadata": {
      "needs_background": "light"
     },
     "output_type": "display_data"
    }
   ],
   "source": [
    "fsize = (5,5)\n",
    "fig, ax = plt.subplots(figsize=fsize)\n",
    "rects = ax.bar(tox,toy1,color='#80E9B9',width=0.3)\n",
    "ax.set_title('Cantidad de Tweets.',fontweight='bold')\n",
    "ax.set_ylabel('Cantidad',fontweight='bold')\n",
    "ax.set_xlabel('Tweets',fontweight='bold')\n",
    "ax.set_yticks([])\n",
    "ax.xaxis.set_ticks_position('none')\n",
    "autolabelint(ax,rects,fsize,'#488468')"
   ]
  },
  {
   "cell_type": "markdown",
   "metadata": {},
   "source": [
    "# Analisis de caracteres en los tweets\n",
    " \n"
   ]
  },
  {
   "cell_type": "markdown",
   "metadata": {},
   "source": [
    "Cantidad de caracteres totales (sacando los espacios) en tweets verdaderos y falsos"
   ]
  },
  {
   "cell_type": "code",
   "execution_count": 42,
   "metadata": {},
   "outputs": [],
   "source": [
    "toy = (len(sttrue.replace(' ','')),len(stfalse.replace(' ','')))"
   ]
  },
  {
   "cell_type": "code",
   "execution_count": 43,
   "metadata": {},
   "outputs": [
    {
     "data": {
      "image/png": "[encoded data removed]",
      "text/plain": [
       "<Figure size 360x360 with 1 Axes>"
      ]
     },
     "metadata": {
      "needs_background": "light"
     },
     "output_type": "display_data"
    }
   ],
   "source": [
    "fsize = (5,5)\n",
    "fig, ax = plt.subplots(figsize=fsize)\n",
    "rects = ax.bar(tox,toy,color='#8295EF',width=0.3)\n",
    "ax.set_title('Cantidad de Caracteres.',fontweight='bold')\n",
    "ax.set_ylabel('Cantidad',fontweight='bold')\n",
    "ax.set_xlabel('Tweets',fontweight='bold')\n",
    "ax.set_yticks([])\n",
    "ax.xaxis.set_ticks_position('none')\n",
    "autolabelint(ax,rects,fsize,'#535F99')"
   ]
  },
  {
   "cell_type": "markdown",
   "metadata": {},
   "source": [
    "Se puede ver que las publicaciones verdaderas usan mayor cantidad de caracteres (sacando los espacios en blanco) que las falsas "
   ]
  },
  {
   "cell_type": "code",
   "execution_count": 44,
   "metadata": {},
   "outputs": [
    {
     "data": {
      "text/plain": [
       "(93, 81)"
      ]
     },
     "execution_count": 44,
     "metadata": {},
     "output_type": "execute_result"
    }
   ],
   "source": [
    "prom = int(int(toy[0])/int(toy1[0])),int(int(toy[1])/int(toy1[1]))\n",
    "prom"
   ]
  },
  {
   "cell_type": "markdown",
   "metadata": {},
   "source": [
    "Hay que tener en cuenta que la cantidad de caracteres a lo largo del tiempo en la red social fue cambiando."
   ]
  },
  {
   "cell_type": "code",
   "execution_count": 45,
   "metadata": {},
   "outputs": [
    {
     "data": {
      "text/plain": [
       "(151, 14)"
      ]
     },
     "execution_count": 45,
     "metadata": {},
     "output_type": "execute_result"
    }
   ],
   "source": [
    "tmaxmin = ttrue['text'].apply(len).max() , ttrue['text'].apply(len).min()\n",
    "tmaxmin"
   ]
  },
  {
   "cell_type": "code",
   "execution_count": 46,
   "metadata": {},
   "outputs": [
    {
     "data": {
      "text/plain": [
       "(157, 7)"
      ]
     },
     "execution_count": 46,
     "metadata": {},
     "output_type": "execute_result"
    }
   ],
   "source": [
    "fmaxmin = tfalse['text'].apply(len).max() , tfalse['text'].apply(len).min()\n",
    "fmaxmin"
   ]
  },
  {
   "cell_type": "code",
   "execution_count": 47,
   "metadata": {},
   "outputs": [
    {
     "data": {
      "text/plain": [
       "<matplotlib.legend.Legend at 0x7fe990e4ae50>"
      ]
     },
     "execution_count": 47,
     "metadata": {},
     "output_type": "execute_result"
    },
    {
     "data": {
      "image/png": "[encoded data removed]",
      "text/plain": [
       "<Figure size 432x360 with 1 Axes>"
      ]
     },
     "metadata": {
      "needs_background": "light"
     },
     "output_type": "display_data"
    }
   ],
   "source": [
    "fsize = (6,5)\n",
    "fig, ax = plt.subplots(figsize=fsize)\n",
    "bars1 = [prom[0],tmaxmin[0],tmaxmin[1]]\n",
    "bars2 = [prom[1],fmaxmin[0],fmaxmin[1]]\n",
    "r1 = np.arange(len(bars1))\n",
    "r2 = [x + 0.3 for x in r1]\n",
    "rects1 = ax.bar(r1, bars1, color='#52D9DC', width=0.3, edgecolor='white', label='Verdaderos')\n",
    "rects2 = ax.bar(r2, bars2, color='#DC5552', width=0.3, edgecolor='white', label='Falsos')\n",
    "\n",
    "ax.set_title('Analisis de Tweets.',fontweight='bold')\n",
    "ax.set_ylabel('Cantidad',fontweight='bold')\n",
    "ax.set_xlabel('Caracteres',fontweight='bold')\n",
    "ax.set_yticks([])\n",
    "ax.xaxis.set_ticks_position('none')\n",
    "plt.xlabel('Caracteres', fontweight='bold')\n",
    "plt.xticks([r+0.15 for r in range(len(bars1))], ['Promedio', 'Maximo', 'Minimo'])\n",
    "autolabelint(ax,rects1,fsize,'#379092')\n",
    "autolabelint(ax,rects2,fsize,'#8C3634')\n",
    "plt.legend()"
   ]
  },
  {
   "cell_type": "code",
   "execution_count": 48,
   "metadata": {},
   "outputs": [],
   "source": [
    "ttox = ttrue['text'].apply(len).value_counts().sort_index()"
   ]
  },
  {
   "cell_type": "code",
   "execution_count": 49,
   "metadata": {},
   "outputs": [],
   "source": [
    "ftox = tfalse['text'].apply(len).value_counts().sort_index()"
   ]
  },
  {
   "cell_type": "code",
   "execution_count": 50,
   "metadata": {},
   "outputs": [
    {
     "data": {
      "image/png": "[encoded data removed]",
      "text/plain": [
       "<Figure size 720x360 with 1 Axes>"
      ]
     },
     "metadata": {
      "needs_background": "light"
     },
     "output_type": "display_data"
    }
   ],
   "source": [
    "fsize = (10,5)\n",
    "fig, ax = plt.subplots(figsize=fsize,constrained_layout=True)\n",
    "fig.suptitle('Distribucion de Cantidad de Caracteres',fontweight='bold')\n",
    "ax.plot(ttox.index,ttox.values, color='#379092', label = 'Verdaderos')\n",
    "ax.plot(ftox.index,ftox.values, color='#8C3634', label = 'Falsos')\n",
    "legend = ax.legend(loc='best', shadow=True)\n",
    "#####################################################################################\n",
    "ax.set_ylabel('Frecuencia',fontweight='bold')\n",
    "#####################################################################################\n",
    "plt.show()"
   ]
  },
  {
   "cell_type": "code",
   "execution_count": 51,
   "metadata": {},
   "outputs": [
    {
     "data": {
      "image/png": "[encoded data removed]",
      "text/plain": [
       "<Figure size 864x432 with 4 Axes>"
      ]
     },
     "metadata": {
      "needs_background": "light"
     },
     "output_type": "display_data"
    }
   ],
   "source": [
    "fsize = (12,6)\n",
    "fig, axs = plt.subplots(2,2,figsize=fsize)\n",
    "axs[0,0].hist(ttrue['text'].apply(len),alpha=0.8,bins=50, color='#61FAFD', label = 'Verdaderos',density=True)\n",
    "axs[0,0].hist(tfalse['text'].apply(len),alpha=0.5,bins=50, color='#FD6461', label = 'Falsos',density=True)\n",
    "axs[0,1].hist(ttrue['text'].apply(len),alpha=0.8,bins=22, color='#61FAFD', label = 'Verdaderos',density=True)\n",
    "axs[0,1].hist(tfalse['text'].apply(len),alpha=0.5,bins=22, color='#FD6461', label = 'Falsos',density=True)\n",
    "axs[1,0].hist(ttrue['text'].apply(len),alpha=0.8,bins=14, color='#61FAFD', label = 'Verdaderos',density=True)\n",
    "axs[1,0].hist(tfalse['text'].apply(len),alpha=0.5,bins=14, color='#FD6461', label = 'Falsos',density=True)\n",
    "axs[1,1].hist(ttrue['text'].apply(len),alpha=0.8,bins=8, color='#61FAFD', label = 'Verdaderos',density=True)\n",
    "axs[1,1].hist(tfalse['text'].apply(len),alpha=0.5,bins=8, color='#FD6461', label = 'Falsos',density=True)\n",
    "legend = axs[0,0].legend(loc='best', shadow=True)\n",
    "#legend.get_frame().set_facecolor('C0')\n",
    "#####################################################################################\n",
    "fig.suptitle('Distribucion de Cantidad de Caracteres',fontweight='bold')\n",
    "axs[0,0].set_ylabel('Frecuencia normalizada',fontweight='bold')\n",
    "axs[1,0].set_ylabel('Frecuencia normalizada',fontweight='bold')\n",
    "axs[0,0].set_xlabel('Cantidades (50 bins)',fontweight='bold')\n",
    "axs[0,1].set_xlabel('Cantidades (22 bins)',fontweight='bold')\n",
    "axs[1,0].set_xlabel('Cantidades (14 bins)',fontweight='bold')\n",
    "axs[1,1].set_xlabel('Cantidades (8 bins)',fontweight='bold')\n",
    "#####################################################################################\n",
    "ax.xaxis.set_ticks_position('none')\n",
    "plt.show()"
   ]
  },
  {
   "cell_type": "code",
   "execution_count": 52,
   "metadata": {},
   "outputs": [],
   "source": [
    "asciiletters = 'ABCDEFGHIJKLMNOPQRSTUVWXYZabcdefghijklmnopqrstuvwxyz'\n",
    "asciinumbers = '0123456789'"
   ]
  },
  {
   "cell_type": "code",
   "execution_count": 53,
   "metadata": {},
   "outputs": [],
   "source": [
    "total = len(sttrue),len(stfalse)"
   ]
  },
  {
   "cell_type": "code",
   "execution_count": 54,
   "metadata": {},
   "outputs": [],
   "source": [
    "numberst = pd.DataFrame((char,sttrue.count(char)) for char in asciinumbers).set_index(0)\n",
    "numbersf = pd.DataFrame((char,stfalse.count(char)) for char in asciinumbers).set_index(0)"
   ]
  },
  {
   "cell_type": "code",
   "execution_count": 55,
   "metadata": {},
   "outputs": [],
   "source": [
    "lettersf = pd.DataFrame((char,stfalse.count(char)) for char in asciiletters).set_index(0)\n",
    "letterst = pd.DataFrame((char,sttrue.count(char)) for char in asciiletters).set_index(0)"
   ]
  },
  {
   "cell_type": "code",
   "execution_count": 56,
   "metadata": {},
   "outputs": [],
   "source": [
    "spacet =  sttrue.count(' ')\n",
    "spacef =  stfalse.count(' ')"
   ]
  },
  {
   "cell_type": "code",
   "execution_count": 57,
   "metadata": {},
   "outputs": [],
   "source": [
    "space = (sttrue.count(' ')*100)/total[0], (stfalse.count(' ')*100)/total[1]\n",
    "letters = (letterst.sum()[1]*100)/total[0],(lettersf.sum()[1]*100)/total[1]\n",
    "numbers = (numberst.sum()[1]*100)/total[0],(numbersf.sum()[1]*100)/total[1]\n",
    "nonalfa = 100 - (space[0]+letters[0]+numbers[0]) , 100 - (space[1]+letters[1]+numbers[1])"
   ]
  },
  {
   "cell_type": "code",
   "execution_count": 58,
   "metadata": {},
   "outputs": [
    {
     "data": {
      "text/plain": [
       "((13.135429067495384, 14.339480073828264),\n",
       " (77.0279861666841, 76.98882709795721),\n",
       " (2.439493381668877, 1.661857882996157),\n",
       " (7.397091384151636, 7.009834945218358))"
      ]
     },
     "execution_count": 58,
     "metadata": {},
     "output_type": "execute_result"
    }
   ],
   "source": [
    "space , letters , numbers, nonalfa"
   ]
  },
  {
   "cell_type": "code",
   "execution_count": 59,
   "metadata": {},
   "outputs": [
    {
     "data": {
      "text/plain": [
       "<matplotlib.legend.Legend at 0x7fe990d7be50>"
      ]
     },
     "execution_count": 59,
     "metadata": {},
     "output_type": "execute_result"
    },
    {
     "data": {
      "image/png": "[encoded data removed]",
      "text/plain": [
       "<Figure size 576x216 with 1 Axes>"
      ]
     },
     "metadata": {
      "needs_background": "light"
     },
     "output_type": "display_data"
    }
   ],
   "source": [
    "fsize = (8,3)\n",
    "fig, ax = plt.subplots(figsize=fsize,constrained_layout=True)\n",
    "barWidth = 1\n",
    "ax.barh(['Verdaderos','Falsos'], letters, color='#80E9B9', height = barWidth, edgecolor='white', label=\"Letras\")\n",
    "ax.barh(['Verdaderos','Falsos'], numbers, left=letters, color='#DC5552', height = barWidth, edgecolor='white', label=\"Numeros\")\n",
    "ax.barh(['Verdaderos','Falsos'], space, left=[i+j for i,j in zip(letters, numbers)], height = barWidth, color='#379092', edgecolor='white', label=\"Espacios\")\n",
    "ax.barh(['Verdaderos','Falsos'], nonalfa, left=[i+j+k for i,j,k in zip(letters, numbers, space)], height = barWidth, color='#EFDC82', edgecolor='white', label=\"Non-Alfa\")\n",
    "ax.set_title('Analisis de Caracteres.',fontweight='bold')\n",
    "ax.set_xlabel('Porcentaje (%)',fontweight='bold')\n",
    "ax.set_ylabel('Tweets',fontweight='bold')\n",
    "ax.xaxis.set_ticks_position('none')\n",
    "ax.yaxis.set_ticks_position('none')\n",
    "chartBox = ax.get_position()\n",
    "ax.set_position([chartBox.x0, chartBox.y0, chartBox.width*0.8, chartBox.height])\n",
    "ax.legend(loc='upper center', bbox_to_anchor=(1.15, 0.8), shadow=True, ncol=1)"
   ]
  },
  {
   "cell_type": "raw",
   "metadata": {},
   "source": [
    "Hay una diferencia de 1% en la cantidad de espacios en blaco a favor de los tweets falsos. En los tweets verdaderos hay una proporsion mayor de numeros, letras y caracteres Non-Alfa pero la diferencia para la cantidad de datos es muy poca.  "
   ]
  },
  {
   "cell_type": "code",
   "execution_count": 60,
   "metadata": {},
   "outputs": [],
   "source": [
    "charf15 = charf.sort_values(by='cant',ascending = False)[0:14]\n",
    "chart15 = chart.sort_values(by='cant',ascending = False)[0:14]"
   ]
  },
  {
   "cell_type": "code",
   "execution_count": 61,
   "metadata": {},
   "outputs": [],
   "source": [
    "chart15['cant'] = chart15['cant'].apply(lambda x: (x*100)/total[0])\n",
    "charf15['cant'] = charf15['cant'].apply(lambda x: (x*100)/total[1])"
   ]
  },
  {
   "cell_type": "code",
   "execution_count": 62,
   "metadata": {},
   "outputs": [
    {
     "data": {
      "image/png": "[encoded data removed]",
      "text/plain": [
       "<Figure size 720x576 with 2 Axes>"
      ]
     },
     "metadata": {
      "needs_background": "light"
     },
     "output_type": "display_data"
    }
   ],
   "source": [
    "fsize = (10,8)\n",
    "fig, axs = plt.subplots(2,1,figsize=fsize)\n",
    "rects1 = axs[0].bar(chart15['char'].tolist(), chart15['cant'].tolist() , color='#52D9DC', width=0.5, edgecolor='white', label='Verdaderos')\n",
    "rects2 = axs[1].bar(charf15['char'].tolist(), charf15['cant'].tolist() , color='#FD6461', width=0.5, edgecolor='white', label='Falsos')\n",
    "axs[0].set_title('Top 15 Caracteres en Tweets.',fontweight='bold')\n",
    "axs[0].set_ylabel('Porcentaje (%)',fontweight='bold')\n",
    "axs[1].set_xlabel('Caracteres en tweets falsos',fontweight='bold')\n",
    "axs[0].set_yticks([])\n",
    "axs[0].xaxis.set_ticks_position('none')\n",
    "axs[1].set_yticks([])\n",
    "axs[1].xaxis.set_ticks_position('none')\n",
    "axs[0].set_xlabel('Caracteres en tweets verdaderos',fontweight='bold')\n",
    "axs[1].set_ylabel('Porcentaje (%)',fontweight='bold')\n",
    "autolabelint(axs[0],rects1,fsize,'#52D9DC')\n",
    "autolabelint(axs[1],rects2,fsize,'#DC5552')"
   ]
  },
  {
   "cell_type": "code",
   "execution_count": 63,
   "metadata": {},
   "outputs": [],
   "source": [
    "toplot = chart.merge(charf,on='char').sort_values(by='cant_x',ascending=False)[1:20]"
   ]
  },
  {
   "cell_type": "code",
   "execution_count": 64,
   "metadata": {},
   "outputs": [
    {
     "data": {
      "text/plain": [
       "(19, 3)"
      ]
     },
     "execution_count": 64,
     "metadata": {},
     "output_type": "execute_result"
    }
   ],
   "source": [
    "toplot.shape"
   ]
  },
  {
   "cell_type": "code",
   "execution_count": 65,
   "metadata": {},
   "outputs": [],
   "source": [
    "toplot['cant_x'] = (toplot['cant_x']*100)/total[0]\n",
    "toplot['cant_y'] = (toplot['cant_y']*100)/total[1]"
   ]
  },
  {
   "cell_type": "code",
   "execution_count": 66,
   "metadata": {},
   "outputs": [
    {
     "data": {
      "text/plain": [
       "<matplotlib.legend.Legend at 0x7fe9908250d0>"
      ]
     },
     "execution_count": 66,
     "metadata": {},
     "output_type": "execute_result"
    },
    {
     "data": {
      "image/png": "[encoded data removed]",
      "text/plain": [
       "<Figure size 720x288 with 1 Axes>"
      ]
     },
     "metadata": {
      "needs_background": "light"
     },
     "output_type": "display_data"
    }
   ],
   "source": [
    "fsize = (10,4)\n",
    "fig, ax = plt.subplots(figsize=fsize)\n",
    "bars1 = toplot['cant_x'].tolist()\n",
    "bars2 = toplot['cant_y'].tolist()\n",
    "r1 = np.arange(len(bars1))\n",
    "r2 = [x + 0.4 for x in r1]\n",
    "rects1 = ax.bar(toplot['char'].tolist(), bars1, color='#52D9DC', width=0.4, edgecolor='white', label='Verdaderos')\n",
    "rects2 = ax.bar(r2, bars2, color='#DC5552', width=0.4, edgecolor='white', label='Falsos')\n",
    "ax.set_title('Top 20 Caracteres.',fontweight='bold')\n",
    "ax.set_ylabel('Porcentaje(%)',fontweight='bold')\n",
    "ax.set_xlabel('Caracteres',fontweight='bold')\n",
    "ax.set_yticks([])\n",
    "ax.set_xticks(toplot['char'].tolist())\n",
    "ax.xaxis.set_ticks_position('none')\n",
    "autolabelint(ax,rects1,fsize,'#379092')\n",
    "autolabelint(ax,rects2,fsize,'#8C3634')\n",
    "#ax.set_xticklabels(toplot['char'].tolist())\n",
    "plt.legend()"
   ]
  },
  {
   "cell_type": "markdown",
   "metadata": {},
   "source": [
    "### Conclusion sobre los caracteres:\n",
    "1. La cantidad de espacios en blanco en los tweets falsos es levemente superior.\n",
    "2. La distribucion de caracteres muestra que los tweets falsos tienden a ser mas cortos mientras que a partir de cierta cantidad la frecuencia normalizada de verdaderos aumenta y supera a los falsos. (Ver distribucion)"
   ]
  },
  {
   "cell_type": "markdown",
   "metadata": {},
   "source": [
    "# NLP"
   ]
  },
  {
   "cell_type": "code",
   "execution_count": 67,
   "metadata": {},
   "outputs": [],
   "source": [
    "import nltk\n",
    "import re\n",
    "from PIL import Image\n",
    "from wordcloud import WordCloud, STOPWORDS, ImageColorGenerator"
   ]
  },
  {
   "cell_type": "code",
   "execution_count": 68,
   "metadata": {},
   "outputs": [
    {
     "name": "stderr",
     "output_type": "stream",
     "text": [
      "[nltk_data] Downloading package words to /home/pcsor/nltk_data...\n",
      "[nltk_data]   Package words is already up-to-date!\n"
     ]
    }
   ],
   "source": [
    "nltk.download('words')\n",
    "words = set(nltk.corpus.words.words())"
   ]
  },
  {
   "cell_type": "code",
   "execution_count": 69,
   "metadata": {},
   "outputs": [
    {
     "name": "stderr",
     "output_type": "stream",
     "text": [
      "[nltk_data] Downloading package averaged_perceptron_tagger to\n",
      "[nltk_data]     /home/pcsor/nltk_data...\n",
      "[nltk_data]   Package averaged_perceptron_tagger is already up-to-\n",
      "[nltk_data]       date!\n"
     ]
    },
    {
     "data": {
      "text/plain": [
       "True"
      ]
     },
     "execution_count": 69,
     "metadata": {},
     "output_type": "execute_result"
    }
   ],
   "source": [
    "nltk.download('averaged_perceptron_tagger')"
   ]
  },
  {
   "cell_type": "raw",
   "metadata": {},
   "source": [
    "Se agrega como separador de los tweets un espacio en blanco"
   ]
  },
  {
   "cell_type": "code",
   "execution_count": 70,
   "metadata": {},
   "outputs": [],
   "source": [
    "stfalse = tfalse['text'].str.cat(sep=' ')\n",
    "sttrue = ttrue['text'].str.cat(sep=' ')"
   ]
  },
  {
   "cell_type": "code",
   "execution_count": 71,
   "metadata": {},
   "outputs": [],
   "source": [
    "stfalse_file = open(\"stfalse.txt\", \"r\")\n",
    "sttrue_file = open(\"sttrue.txt\", \"r\")"
   ]
  },
  {
   "cell_type": "code",
   "execution_count": 72,
   "metadata": {},
   "outputs": [],
   "source": [
    "stfalse = stfalse_file.read()\n",
    "sttrue = sttrue_file.read()"
   ]
  },
  {
   "cell_type": "code",
   "execution_count": 73,
   "metadata": {},
   "outputs": [
    {
     "data": {
      "text/plain": [
       "(419900, 356909)"
      ]
     },
     "execution_count": 73,
     "metadata": {},
     "output_type": "execute_result"
    }
   ],
   "source": [
    "len(stfalse) , len(sttrue)"
   ]
  },
  {
   "cell_type": "code",
   "execution_count": 74,
   "metadata": {},
   "outputs": [],
   "source": [
    "falsetokens = nltk.wordpunct_tokenize(stfalse)\n",
    "truetokens = nltk.wordpunct_tokenize(sttrue)"
   ]
  },
  {
   "cell_type": "code",
   "execution_count": 75,
   "metadata": {},
   "outputs": [
    {
     "data": {
      "text/plain": [
       "['Our',\n",
       " 'Deeds',\n",
       " 'are',\n",
       " 'the',\n",
       " 'Reason',\n",
       " 'of',\n",
       " 'this',\n",
       " '#',\n",
       " 'earthquake',\n",
       " 'May',\n",
       " 'ALLAH',\n",
       " 'Forgive',\n",
       " 'us',\n",
       " 'all',\n",
       " 'Forest',\n",
       " 'fire',\n",
       " 'near',\n",
       " 'La',\n",
       " 'Ronge',\n",
       " 'Sask',\n",
       " '.',\n",
       " 'Canada',\n",
       " 'All',\n",
       " 'residents',\n",
       " 'asked',\n",
       " 'to',\n",
       " \"'\",\n",
       " 'shelter',\n",
       " 'in',\n",
       " 'place',\n",
       " \"'\",\n",
       " 'are',\n",
       " 'being',\n",
       " 'notified',\n",
       " 'by',\n",
       " 'officers',\n",
       " '.',\n",
       " 'No',\n",
       " 'other',\n",
       " 'evacuation',\n",
       " 'or',\n",
       " 'shelter',\n",
       " 'in',\n",
       " 'place',\n",
       " 'orders',\n",
       " 'are',\n",
       " 'expected',\n",
       " '13',\n",
       " ',',\n",
       " '000',\n",
       " 'people',\n",
       " 'receive',\n",
       " '#',\n",
       " 'wildfires',\n",
       " 'evacuation',\n",
       " 'orders',\n",
       " 'in',\n",
       " 'California',\n",
       " 'Just',\n",
       " 'got',\n",
       " 'sent',\n",
       " 'this',\n",
       " 'photo',\n",
       " 'from',\n",
       " 'Ruby',\n",
       " '#',\n",
       " 'Alaska',\n",
       " 'as',\n",
       " 'smoke',\n",
       " 'from',\n",
       " '#',\n",
       " 'wildfires',\n",
       " 'pours',\n",
       " 'into',\n",
       " 'a',\n",
       " 'school',\n",
       " '#',\n",
       " 'RockyFire',\n",
       " 'Update',\n",
       " '=>',\n",
       " 'California',\n",
       " 'Hwy',\n",
       " '.',\n",
       " '20',\n",
       " 'closed',\n",
       " 'in',\n",
       " 'both',\n",
       " 'directions',\n",
       " 'due',\n",
       " 'to',\n",
       " 'Lake',\n",
       " 'County',\n",
       " 'fire',\n",
       " '-',\n",
       " '#',\n",
       " 'CAfire',\n",
       " '#',\n",
       " 'wildfires',\n",
       " '#',\n",
       " 'flood',\n",
       " '#',\n",
       " 'disaster',\n",
       " 'Heavy',\n",
       " 'rain',\n",
       " 'causes',\n",
       " 'flash',\n",
       " 'flooding',\n",
       " 'of',\n",
       " 'streets',\n",
       " 'in',\n",
       " 'Manitou',\n",
       " ',',\n",
       " 'Colorado',\n",
       " 'Springs',\n",
       " 'areas',\n",
       " 'I',\n",
       " \"'\",\n",
       " 'm',\n",
       " 'on',\n",
       " 'top',\n",
       " 'of',\n",
       " 'the',\n",
       " 'hill',\n",
       " 'and',\n",
       " 'I',\n",
       " 'can',\n",
       " 'see',\n",
       " 'a',\n",
       " 'fire',\n",
       " 'in',\n",
       " 'the',\n",
       " 'woods',\n",
       " '...',\n",
       " 'There',\n",
       " \"'\",\n",
       " 's',\n",
       " 'an',\n",
       " 'emergency',\n",
       " 'evacuation',\n",
       " 'happening',\n",
       " 'now',\n",
       " 'in',\n",
       " 'the',\n",
       " 'building',\n",
       " 'across',\n",
       " 'the',\n",
       " 'street',\n",
       " 'I',\n",
       " \"'\",\n",
       " 'm',\n",
       " 'afraid',\n",
       " 'that',\n",
       " 'the',\n",
       " 'tornado',\n",
       " 'is',\n",
       " 'coming',\n",
       " 'to',\n",
       " 'our',\n",
       " 'area',\n",
       " '...',\n",
       " 'Three',\n",
       " 'people',\n",
       " 'died',\n",
       " 'from',\n",
       " 'the',\n",
       " 'heat',\n",
       " 'wave',\n",
       " 'so',\n",
       " 'far',\n",
       " 'Haha',\n",
       " 'South',\n",
       " 'Tampa',\n",
       " 'is',\n",
       " 'getting',\n",
       " 'flooded',\n",
       " 'hah',\n",
       " '-',\n",
       " 'WAIT',\n",
       " 'A',\n",
       " 'SECOND',\n",
       " 'I',\n",
       " 'LIVE',\n",
       " 'IN',\n",
       " 'SOUTH',\n",
       " 'TAMPA',\n",
       " 'WHAT',\n",
       " 'AM',\n",
       " 'I',\n",
       " 'GONNA',\n",
       " 'DO',\n",
       " 'WHAT',\n",
       " 'AM',\n",
       " 'I',\n",
       " 'GONNA',\n",
       " 'DO',\n",
       " 'FVCK',\n",
       " '#',\n",
       " 'flooding',\n",
       " '#',\n",
       " 'raining',\n",
       " '#',\n",
       " 'flooding',\n",
       " '#',\n",
       " 'Florida',\n",
       " '#',\n",
       " 'TampaBay',\n",
       " '#',\n",
       " 'Tampa',\n",
       " '18',\n",
       " 'or',\n",
       " '19',\n",
       " 'days',\n",
       " '.',\n",
       " 'I',\n",
       " \"'\",\n",
       " 've',\n",
       " 'lost',\n",
       " 'count',\n",
       " '#',\n",
       " 'Flood',\n",
       " 'in',\n",
       " 'Bago',\n",
       " 'Myanmar',\n",
       " '#',\n",
       " 'We',\n",
       " 'arrived',\n",
       " 'Bago',\n",
       " 'Damage',\n",
       " 'to',\n",
       " 'school',\n",
       " 'bus',\n",
       " 'on',\n",
       " '80',\n",
       " 'in',\n",
       " 'multi',\n",
       " 'car',\n",
       " 'crash',\n",
       " '#',\n",
       " 'BREAKING',\n",
       " '@',\n",
       " 'bbcmtd',\n",
       " 'Wholesale',\n",
       " 'Markets',\n",
       " 'ablaze',\n",
       " 'http',\n",
       " '://',\n",
       " 't',\n",
       " '.',\n",
       " 'co',\n",
       " '/',\n",
       " 'lHYXEOHY6C',\n",
       " '#',\n",
       " 'AFRICANBAZE',\n",
       " ':',\n",
       " 'Breaking',\n",
       " 'news',\n",
       " ':',\n",
       " 'Nigeria',\n",
       " 'flag',\n",
       " 'set',\n",
       " 'ablaze',\n",
       " 'in',\n",
       " 'Aba',\n",
       " '.',\n",
       " 'http',\n",
       " '://',\n",
       " 't',\n",
       " '.',\n",
       " 'co',\n",
       " '/',\n",
       " '2nndBGwyEi',\n",
       " 'INEC',\n",
       " 'Office',\n",
       " 'in',\n",
       " 'Abia',\n",
       " 'Set',\n",
       " 'Ablaze',\n",
       " '-',\n",
       " 'http',\n",
       " '://',\n",
       " 't',\n",
       " '.',\n",
       " 'co',\n",
       " '/',\n",
       " '3ImaomknnA',\n",
       " 'Barbados',\n",
       " '#',\n",
       " 'Bridgetown',\n",
       " 'JAMAICA',\n",
       " '\\x89',\n",
       " 'ÛÒ',\n",
       " 'Two',\n",
       " 'cars',\n",
       " 'set',\n",
       " 'ablaze',\n",
       " ':',\n",
       " 'SANTA',\n",
       " 'CRUZ',\n",
       " '\\x89',\n",
       " 'ÛÓ',\n",
       " 'Head',\n",
       " 'of',\n",
       " 'the',\n",
       " 'St',\n",
       " 'Elizabeth',\n",
       " 'Police',\n",
       " 'Superintende',\n",
       " '...',\n",
       " 'http',\n",
       " '://',\n",
       " 't',\n",
       " '.',\n",
       " 'co',\n",
       " '/',\n",
       " 'wDUEaj8Q4J',\n",
       " 'How',\n",
       " 'the',\n",
       " 'West',\n",
       " 'was',\n",
       " 'burned',\n",
       " ':',\n",
       " 'Thousands',\n",
       " 'of',\n",
       " 'wildfires',\n",
       " 'ablaze',\n",
       " 'in',\n",
       " 'California',\n",
       " 'alone',\n",
       " 'http',\n",
       " '://',\n",
       " 't',\n",
       " '.',\n",
       " 'co',\n",
       " '/',\n",
       " 'vl5TBR3wbr',\n",
       " 'Deputies',\n",
       " ':',\n",
       " 'Man',\n",
       " 'shot',\n",
       " 'before',\n",
       " 'Brighton',\n",
       " 'home',\n",
       " 'set',\n",
       " 'ablaze',\n",
       " 'http',\n",
       " '://',\n",
       " 't',\n",
       " '.',\n",
       " 'co',\n",
       " '/',\n",
       " 'gWNRhMSO8k',\n",
       " 'Man',\n",
       " 'wife',\n",
       " 'get',\n",
       " 'six',\n",
       " 'years',\n",
       " 'jail',\n",
       " 'for',\n",
       " 'setting',\n",
       " 'ablaze',\n",
       " 'niece',\n",
       " 'http',\n",
       " '://',\n",
       " 't',\n",
       " '.',\n",
       " 'co',\n",
       " '/',\n",
       " 'eV1ahOUCZA',\n",
       " 'Police',\n",
       " ':',\n",
       " 'Arsonist',\n",
       " 'Deliberately',\n",
       " 'Set',\n",
       " 'Black',\n",
       " 'Church',\n",
       " 'In',\n",
       " 'North',\n",
       " 'CarolinaåÊAblaze',\n",
       " 'http',\n",
       " '://',\n",
       " 't',\n",
       " '.',\n",
       " 'co',\n",
       " '/',\n",
       " 'pcXarbH9An',\n",
       " '#',\n",
       " 'Kurds',\n",
       " 'trampling',\n",
       " 'on',\n",
       " 'Turkmen',\n",
       " 'flag',\n",
       " 'later',\n",
       " 'set',\n",
       " 'it',\n",
       " 'ablaze',\n",
       " 'while',\n",
       " 'others',\n",
       " 'vandalized',\n",
       " 'offices',\n",
       " 'of',\n",
       " 'Turkmen',\n",
       " 'Front',\n",
       " 'in',\n",
       " '#',\n",
       " 'Diyala',\n",
       " 'http',\n",
       " '://',\n",
       " 't',\n",
       " '.',\n",
       " 'co',\n",
       " '/',\n",
       " '4IzFdYC3cg',\n",
       " 'TRUCK',\n",
       " 'ABLAZE',\n",
       " ':',\n",
       " 'R21',\n",
       " '.',\n",
       " 'VOORTREKKER',\n",
       " 'AVE',\n",
       " '.',\n",
       " 'OUTSIDE',\n",
       " 'OR',\n",
       " 'TAMBO',\n",
       " 'INTL',\n",
       " '.',\n",
       " 'CARGO',\n",
       " 'SECTION',\n",
       " '.',\n",
       " 'http',\n",
       " '://',\n",
       " 't',\n",
       " '.',\n",
       " 'co',\n",
       " '/',\n",
       " '8kscqKfKkF',\n",
       " 'How',\n",
       " 'the',\n",
       " 'West',\n",
       " 'was',\n",
       " 'burned',\n",
       " ':',\n",
       " 'Thousands',\n",
       " 'of',\n",
       " 'wildfires',\n",
       " 'ablaze',\n",
       " 'in',\n",
       " '#',\n",
       " 'California',\n",
       " 'alone',\n",
       " 'http',\n",
       " '://',\n",
       " 't',\n",
       " '.',\n",
       " 'co',\n",
       " '/',\n",
       " 'iCSjGZ9tE1',\n",
       " '#',\n",
       " 'climate',\n",
       " '#',\n",
       " 'energy',\n",
       " 'http',\n",
       " '://',\n",
       " 't',\n",
       " '.',\n",
       " 'co',\n",
       " '/',\n",
       " '9FxmN0l0Bd',\n",
       " '@',\n",
       " 'Navista7',\n",
       " 'Steve',\n",
       " 'these',\n",
       " 'fires',\n",
       " 'out',\n",
       " 'here',\n",
       " 'are',\n",
       " 'something',\n",
       " 'else',\n",
       " '!',\n",
       " 'California',\n",
       " 'is',\n",
       " 'a',\n",
       " 'tinderbox',\n",
       " '-',\n",
       " 'and',\n",
       " 'this',\n",
       " 'clown',\n",
       " 'was',\n",
       " 'setting',\n",
       " 'my',\n",
       " \"'\",\n",
       " 'hood',\n",
       " 'ablaze',\n",
       " '@',\n",
       " 'News24680',\n",
       " '@',\n",
       " 'nxwestmidlands',\n",
       " 'huge',\n",
       " 'fire',\n",
       " 'at',\n",
       " 'Wholesale',\n",
       " 'markets',\n",
       " 'ablaze',\n",
       " 'http',\n",
       " '://',\n",
       " 't',\n",
       " '.',\n",
       " 'co',\n",
       " '/',\n",
       " 'rwzbFVNXER',\n",
       " 'Accident',\n",
       " 'on',\n",
       " 'I',\n",
       " '-',\n",
       " '24',\n",
       " 'W',\n",
       " '#',\n",
       " 'NashvilleTraffic',\n",
       " '.',\n",
       " 'Traffic',\n",
       " 'moving',\n",
       " '8m',\n",
       " 'slower',\n",
       " 'than',\n",
       " 'usual',\n",
       " '.',\n",
       " 'https',\n",
       " '://',\n",
       " 't',\n",
       " '.',\n",
       " 'co',\n",
       " '/',\n",
       " '0GHk693EgJ',\n",
       " 'Accident',\n",
       " 'center',\n",
       " 'lane',\n",
       " 'blocked',\n",
       " 'in',\n",
       " '#',\n",
       " 'SantaClara',\n",
       " 'on',\n",
       " 'US',\n",
       " '-',\n",
       " '101',\n",
       " 'NB',\n",
       " 'before',\n",
       " 'Great',\n",
       " 'America',\n",
       " 'Pkwy',\n",
       " '#',\n",
       " 'BayArea',\n",
       " '#',\n",
       " 'Traffic',\n",
       " 'http',\n",
       " '://',\n",
       " 't',\n",
       " '.',\n",
       " 'co',\n",
       " '/',\n",
       " 'pmlOhZuRWR',\n",
       " 'Reported',\n",
       " 'motor',\n",
       " 'vehicle',\n",
       " 'accident',\n",
       " 'in',\n",
       " 'Curry',\n",
       " 'on',\n",
       " 'Herman',\n",
       " 'Rd',\n",
       " 'near',\n",
       " 'Stephenson',\n",
       " 'involving',\n",
       " 'an',\n",
       " 'overturned',\n",
       " 'vehicle',\n",
       " '.',\n",
       " 'Please',\n",
       " 'use',\n",
       " '...',\n",
       " 'http',\n",
       " '://',\n",
       " 't',\n",
       " '.',\n",
       " 'co',\n",
       " '/',\n",
       " 'YbJezKuRW1',\n",
       " 'BigRigRadio',\n",
       " 'Live',\n",
       " 'Accident',\n",
       " 'Awareness',\n",
       " 'I',\n",
       " '-',\n",
       " '77',\n",
       " 'Mile',\n",
       " 'Marker',\n",
       " '31',\n",
       " 'South',\n",
       " 'Mooresville',\n",
       " 'Iredell',\n",
       " 'Vehicle',\n",
       " 'Accident',\n",
       " 'Ramp',\n",
       " 'Closed',\n",
       " 'at',\n",
       " '8',\n",
       " '/',\n",
       " '6',\n",
       " '1',\n",
       " ':',\n",
       " '18',\n",
       " 'PM',\n",
       " 'Traffic',\n",
       " 'accident',\n",
       " 'N',\n",
       " 'CABRILLO',\n",
       " 'HWY',\n",
       " '/',\n",
       " 'MAGELLAN',\n",
       " 'AV',\n",
       " 'MIR',\n",
       " '(',\n",
       " '08',\n",
       " '/',\n",
       " '06',\n",
       " '/',\n",
       " '15',\n",
       " '11',\n",
       " ':',\n",
       " '03',\n",
       " ':',\n",
       " '58',\n",
       " ')',\n",
       " 'I',\n",
       " '-',\n",
       " '77',\n",
       " 'Mile',\n",
       " 'Marker',\n",
       " '31',\n",
       " 'to',\n",
       " '40',\n",
       " 'South',\n",
       " 'Mooresville',\n",
       " 'Iredell',\n",
       " 'Vehicle',\n",
       " 'Accident',\n",
       " 'Congestion',\n",
       " 'at',\n",
       " '8',\n",
       " '/',\n",
       " '6',\n",
       " '1',\n",
       " ':',\n",
       " '18',\n",
       " 'PM',\n",
       " 'the',\n",
       " 'pastor',\n",
       " 'was',\n",
       " 'not',\n",
       " 'in',\n",
       " 'the',\n",
       " 'scene',\n",
       " 'of',\n",
       " 'the',\n",
       " 'accident',\n",
       " '......',\n",
       " 'who',\n",
       " 'was',\n",
       " 'the',\n",
       " 'owner',\n",
       " 'of',\n",
       " 'the',\n",
       " 'range',\n",
       " 'rover',\n",
       " '?',\n",
       " 'I',\n",
       " 'was',\n",
       " 'in',\n",
       " 'a',\n",
       " 'horrible',\n",
       " 'car',\n",
       " 'accident',\n",
       " 'this',\n",
       " 'past',\n",
       " 'Sunday',\n",
       " '.',\n",
       " 'I',\n",
       " \"'\",\n",
       " 'm',\n",
       " 'finally',\n",
       " 'able',\n",
       " 'to',\n",
       " 'get',\n",
       " 'around',\n",
       " '.',\n",
       " 'Thank',\n",
       " 'you',\n",
       " 'GOD',\n",
       " '??',\n",
       " '#',\n",
       " 'TruckCrash',\n",
       " 'Overturns',\n",
       " 'On',\n",
       " '#',\n",
       " 'FortWorth',\n",
       " 'Interstate',\n",
       " 'http',\n",
       " '://',\n",
       " 't',\n",
       " '.',\n",
       " 'co',\n",
       " '/',\n",
       " 'Rs22LJ4qFp',\n",
       " 'Click',\n",
       " 'here',\n",
       " 'if',\n",
       " 'you',\n",
       " \"'\",\n",
       " 've',\n",
       " 'been',\n",
       " 'in',\n",
       " 'a',\n",
       " 'crash',\n",
       " '&',\n",
       " 'gt',\n",
       " ';',\n",
       " 'http',\n",
       " '://',\n",
       " 't',\n",
       " '.',\n",
       " 'co',\n",
       " '/',\n",
       " 'Ld0unIYw4k',\n",
       " 'Accident',\n",
       " 'in',\n",
       " '#',\n",
       " 'Ashville',\n",
       " 'on',\n",
       " 'US',\n",
       " '23',\n",
       " 'SB',\n",
       " 'before',\n",
       " 'SR',\n",
       " '752',\n",
       " '#',\n",
       " 'traffic',\n",
       " 'http',\n",
       " '://',\n",
       " 't',\n",
       " '.',\n",
       " 'co',\n",
       " '/',\n",
       " 'hylMo0WgFI',\n",
       " 'Carolina',\n",
       " 'accident',\n",
       " ':',\n",
       " 'Motorcyclist',\n",
       " 'Dies',\n",
       " 'in',\n",
       " 'I',\n",
       " '-',\n",
       " '540',\n",
       " 'Crash',\n",
       " 'With',\n",
       " 'Car',\n",
       " 'That',\n",
       " 'Crossed',\n",
       " 'Median',\n",
       " ':',\n",
       " 'A',\n",
       " 'motorcycle',\n",
       " 'rider',\n",
       " 'traveling',\n",
       " '...',\n",
       " 'http',\n",
       " '://',\n",
       " 't',\n",
       " '.',\n",
       " 'co',\n",
       " '/',\n",
       " 'p18lzRlmy6',\n",
       " 'FYI',\n",
       " 'CAD',\n",
       " ':',\n",
       " 'FYI',\n",
       " ':',\n",
       " ';',\n",
       " 'ACCIDENT',\n",
       " 'PROPERTY',\n",
       " 'DAMAGE',\n",
       " ';',\n",
       " 'NHS',\n",
       " ';',\n",
       " '999',\n",
       " 'PINER',\n",
       " 'RD',\n",
       " '/',\n",
       " 'HORNDALE',\n",
       " 'DR',\n",
       " 'RT',\n",
       " 'nAAYf',\n",
       " ':',\n",
       " 'First',\n",
       " 'accident',\n",
       " 'in',\n",
       " 'years',\n",
       " '.',\n",
       " 'Turning',\n",
       " 'onto',\n",
       " 'Chandanee',\n",
       " 'Magu',\n",
       " 'from',\n",
       " 'near',\n",
       " 'MMA',\n",
       " '.',\n",
       " 'Taxi',\n",
       " 'rammed',\n",
       " 'into',\n",
       " 'me',\n",
       " 'while',\n",
       " 'I',\n",
       " 'was',\n",
       " 'halfway',\n",
       " 'turned',\n",
       " '.',\n",
       " 'Everyone',\n",
       " 'conf',\n",
       " '\\x89',\n",
       " 'Û_',\n",
       " 'Accident',\n",
       " 'left',\n",
       " 'lane',\n",
       " 'blocked',\n",
       " 'in',\n",
       " '#',\n",
       " 'Manchester',\n",
       " 'on',\n",
       " 'Rt',\n",
       " '293',\n",
       " 'NB',\n",
       " 'before',\n",
       " 'Eddy',\n",
       " 'Rd',\n",
       " 'stop',\n",
       " 'and',\n",
       " 'go',\n",
       " 'traffic',\n",
       " 'back',\n",
       " 'to',\n",
       " 'NH',\n",
       " '-',\n",
       " '3A',\n",
       " 'delay',\n",
       " 'of',\n",
       " '4',\n",
       " 'mins',\n",
       " '#',\n",
       " 'traffic',\n",
       " ';',\n",
       " 'ACCIDENT',\n",
       " 'PROPERTY',\n",
       " 'DAMAGE',\n",
       " ';',\n",
       " 'PINER',\n",
       " 'RD',\n",
       " '/',\n",
       " 'HORNDALE',\n",
       " 'DR',\n",
       " 'FYI',\n",
       " 'CAD',\n",
       " ':',\n",
       " 'FYI',\n",
       " ':',\n",
       " ';',\n",
       " 'ACCIDENT',\n",
       " 'PROPERTY',\n",
       " 'DAMAGE',\n",
       " ';',\n",
       " 'WPD',\n",
       " ';',\n",
       " '1600',\n",
       " 'S',\n",
       " '17TH',\n",
       " 'ST',\n",
       " '8',\n",
       " '/',\n",
       " '6',\n",
       " '/',\n",
       " '2015',\n",
       " '@',\n",
       " '2',\n",
       " ':',\n",
       " '09',\n",
       " 'PM',\n",
       " ':',\n",
       " 'TRAFFIC',\n",
       " 'ACCIDENT',\n",
       " 'NO',\n",
       " 'INJURY',\n",
       " 'at',\n",
       " '2781',\n",
       " 'WILLIS',\n",
       " 'FOREMAN',\n",
       " 'RD',\n",
       " 'http',\n",
       " '://',\n",
       " 't',\n",
       " '.',\n",
       " 'co',\n",
       " '/',\n",
       " 'VCkIT6EDEv',\n",
       " 'Aashiqui',\n",
       " 'Actress',\n",
       " 'Anu',\n",
       " 'Aggarwal',\n",
       " 'On',\n",
       " 'Her',\n",
       " 'Near',\n",
       " '-',\n",
       " 'Fatal',\n",
       " 'Accident',\n",
       " 'http',\n",
       " '://',\n",
       " 't',\n",
       " '.',\n",
       " 'co',\n",
       " '/',\n",
       " '6Otfp31LqW',\n",
       " 'Suffield',\n",
       " 'Alberta',\n",
       " 'Accident',\n",
       " 'https',\n",
       " '://',\n",
       " 't',\n",
       " '.',\n",
       " 'co',\n",
       " '/',\n",
       " 'bPTmlF4P10',\n",
       " '9',\n",
       " 'Mile',\n",
       " 'backup',\n",
       " 'on',\n",
       " 'I',\n",
       " '-',\n",
       " '77',\n",
       " 'South',\n",
       " '...',\n",
       " 'accident',\n",
       " 'blocking',\n",
       " 'the',\n",
       " 'Right',\n",
       " '2',\n",
       " 'Lanes',\n",
       " 'at',\n",
       " 'Exit',\n",
       " '31',\n",
       " 'Langtree',\n",
       " 'Rd',\n",
       " '...',\n",
       " 'consider',\n",
       " 'NC',\n",
       " '115',\n",
       " 'or',\n",
       " 'NC',\n",
       " '150',\n",
       " 'to',\n",
       " 'NC',\n",
       " '16',\n",
       " 'as',\n",
       " 'alternate',\n",
       " '#',\n",
       " 'BREAKING',\n",
       " ':',\n",
       " 'there',\n",
       " 'was',\n",
       " 'a',\n",
       " 'deadly',\n",
       " 'motorcycle',\n",
       " 'car',\n",
       " 'accident',\n",
       " 'that',\n",
       " 'happened',\n",
       " 'to',\n",
       " '#',\n",
       " 'Hagerstown',\n",
       " 'today',\n",
       " '.',\n",
       " 'I',\n",
       " \"'\",\n",
       " 'll',\n",
       " 'have',\n",
       " 'more',\n",
       " 'details',\n",
       " 'at',\n",
       " '5',\n",
       " '@',\n",
       " 'Your4State',\n",
       " '.',\n",
       " '#',\n",
       " 'WHAG',\n",
       " 'only',\n",
       " 'had',\n",
       " ...]"
      ]
     },
     "execution_count": 75,
     "metadata": {},
     "output_type": "execute_result"
    }
   ],
   "source": [
    "truetokens"
   ]
  },
  {
   "cell_type": "code",
   "execution_count": 76,
   "metadata": {},
   "outputs": [],
   "source": [
    "truetext = nltk.Text(truetokens)\n",
    "falsetext = nltk.Text(falsetokens)"
   ]
  },
  {
   "cell_type": "code",
   "execution_count": 77,
   "metadata": {},
   "outputs": [
    {
     "data": {
      "text/plain": [
       "['#',\n",
       " 'disaster',\n",
       " 'Heavy',\n",
       " 'rain',\n",
       " 'causes',\n",
       " 'flash',\n",
       " 'flooding',\n",
       " 'of',\n",
       " 'streets',\n",
       " 'in',\n",
       " 'Manitou',\n",
       " ',',\n",
       " 'Colorado',\n",
       " 'Springs',\n",
       " 'areas',\n",
       " 'I',\n",
       " \"'\",\n",
       " 'm',\n",
       " 'on',\n",
       " 'top',\n",
       " 'of',\n",
       " 'the',\n",
       " 'hill',\n",
       " 'and',\n",
       " 'I',\n",
       " 'can',\n",
       " 'see',\n",
       " 'a',\n",
       " 'fire',\n",
       " 'in',\n",
       " 'the',\n",
       " 'woods',\n",
       " '...',\n",
       " 'There',\n",
       " \"'\",\n",
       " 's',\n",
       " 'an',\n",
       " 'emergency',\n",
       " 'evacuation',\n",
       " 'happening',\n",
       " 'now',\n",
       " 'in',\n",
       " 'the',\n",
       " 'building',\n",
       " 'across',\n",
       " 'the',\n",
       " 'street',\n",
       " 'I',\n",
       " \"'\",\n",
       " 'm',\n",
       " 'afraid',\n",
       " 'that',\n",
       " 'the',\n",
       " 'tornado',\n",
       " 'is',\n",
       " 'coming',\n",
       " 'to',\n",
       " 'our',\n",
       " 'area',\n",
       " '...',\n",
       " 'Three',\n",
       " 'people',\n",
       " 'died',\n",
       " 'from',\n",
       " 'the',\n",
       " 'heat',\n",
       " 'wave',\n",
       " 'so',\n",
       " 'far',\n",
       " 'Haha',\n",
       " 'South',\n",
       " 'Tampa',\n",
       " 'is',\n",
       " 'getting',\n",
       " 'flooded',\n",
       " 'hah',\n",
       " '-',\n",
       " 'WAIT',\n",
       " 'A',\n",
       " 'SECOND',\n",
       " 'I',\n",
       " 'LIVE',\n",
       " 'IN',\n",
       " 'SOUTH',\n",
       " 'TAMPA',\n",
       " 'WHAT',\n",
       " 'AM',\n",
       " 'I',\n",
       " 'GONNA',\n",
       " 'DO',\n",
       " 'WHAT',\n",
       " 'AM',\n",
       " 'I',\n",
       " 'GONNA',\n",
       " 'DO',\n",
       " 'FVCK',\n",
       " '#',\n",
       " 'flooding',\n",
       " '#',\n",
       " 'raining']"
      ]
     },
     "execution_count": 77,
     "metadata": {},
     "output_type": "execute_result"
    }
   ],
   "source": [
    "truetext[100:200]"
   ]
  },
  {
   "cell_type": "code",
   "execution_count": null,
   "metadata": {},
   "outputs": [],
   "source": []
  },
  {
   "cell_type": "code",
   "execution_count": 78,
   "metadata": {},
   "outputs": [],
   "source": [
    "twords=[word.lower() for word in truetext if word.isalpha()]\n",
    "fwords=[word.lower() for word in falsetext if word.isalpha()]"
   ]
  },
  {
   "cell_type": "code",
   "execution_count": 79,
   "metadata": {},
   "outputs": [],
   "source": [
    "emotions = ['love','fear','sad','trust','surprise','horror','happy','shame','pity','anger','hate','calm']\n",
    "conjunctions = ['but','only','unlike','however','rather','yet','nevertheless','wichever','instead']"
   ]
  },
  {
   "cell_type": "code",
   "execution_count": 80,
   "metadata": {},
   "outputs": [],
   "source": [
    "tvocab = sorted(set(twords))\n",
    "fvocab = sorted(set(fwords))"
   ]
  },
  {
   "cell_type": "code",
   "execution_count": 81,
   "metadata": {},
   "outputs": [
    {
     "data": {
      "image/png": "[encoded data removed]",
      "text/plain": [
       "<Figure size 432x288 with 1 Axes>"
      ]
     },
     "metadata": {
      "needs_background": "light"
     },
     "output_type": "display_data"
    }
   ],
   "source": [
    "truetext.dispersion_plot(emotions)"
   ]
  },
  {
   "cell_type": "code",
   "execution_count": 82,
   "metadata": {},
   "outputs": [
    {
     "data": {
      "image/png": "[encoded data removed]",
      "text/plain": [
       "<Figure size 432x288 with 1 Axes>"
      ]
     },
     "metadata": {
      "needs_background": "light"
     },
     "output_type": "display_data"
    }
   ],
   "source": [
    "falsetext.dispersion_plot(emotions)"
   ]
  },
  {
   "cell_type": "code",
   "execution_count": 83,
   "metadata": {},
   "outputs": [
    {
     "data": {
      "image/png": "[encoded data removed]",
      "text/plain": [
       "<Figure size 432x288 with 1 Axes>"
      ]
     },
     "metadata": {
      "needs_background": "light"
     },
     "output_type": "display_data"
    }
   ],
   "source": [
    "falsetext.dispersion_plot(conjunctions)"
   ]
  },
  {
   "cell_type": "code",
   "execution_count": 84,
   "metadata": {},
   "outputs": [
    {
     "data": {
      "image/png": "[encoded data removed]",
      "text/plain": [
       "<Figure size 432x288 with 1 Axes>"
      ]
     },
     "metadata": {
      "needs_background": "light"
     },
     "output_type": "display_data"
    }
   ],
   "source": [
    "truetext.dispersion_plot(conjunctions)"
   ]
  },
  {
   "cell_type": "code",
   "execution_count": null,
   "metadata": {},
   "outputs": [],
   "source": []
  },
  {
   "cell_type": "code",
   "execution_count": 85,
   "metadata": {},
   "outputs": [],
   "source": [
    "ftagged = pd.DataFrame(nltk.pos_tag(falsetext),columns=['word','tag'])\n",
    "ttagged = pd.DataFrame(nltk.pos_tag(truetext),columns=['word','tag'])"
   ]
  },
  {
   "cell_type": "code",
   "execution_count": 86,
   "metadata": {},
   "outputs": [
    {
     "data": {
      "text/plain": [
       "{'ostracod',\n",
       " 'sattva',\n",
       " 'bustling',\n",
       " 'clearish',\n",
       " 'regionalist',\n",
       " 'pactional',\n",
       " 'maudlinism',\n",
       " 'scoffer',\n",
       " 'brevetcy',\n",
       " 'regalize',\n",
       " 'declared',\n",
       " 'slimishness',\n",
       " 'endless',\n",
       " 'unavailed',\n",
       " 'scrubbable',\n",
       " 'fluentness',\n",
       " 'undid',\n",
       " 'Paschaltide',\n",
       " 'cantilevered',\n",
       " 'sawdusty',\n",
       " 'homogenizer',\n",
       " 'hership',\n",
       " 'propulsor',\n",
       " 'recklessly',\n",
       " 'uncopied',\n",
       " 'scapulectomy',\n",
       " 'thirtieth',\n",
       " 'Eloah',\n",
       " 'euharmonic',\n",
       " 'hegari',\n",
       " 'diastatic',\n",
       " 'mismade',\n",
       " 'nugatory',\n",
       " 'cognosce',\n",
       " 'outadmiral',\n",
       " 'pewful',\n",
       " 'Digor',\n",
       " 'inexpungeable',\n",
       " 'rapateaceous',\n",
       " 'semireflex',\n",
       " 'carbamide',\n",
       " 'craver',\n",
       " 'hydrochlorplatinic',\n",
       " 'ribspare',\n",
       " 'propinquous',\n",
       " 'mosswort',\n",
       " 'Purbeck',\n",
       " 'admiration',\n",
       " 'bunoselenodont',\n",
       " 'tolsester',\n",
       " 'nonsociological',\n",
       " 'much',\n",
       " 'gentleship',\n",
       " 'cyanoacetic',\n",
       " 'throughgang',\n",
       " 'exploringly',\n",
       " 'unapprehensiveness',\n",
       " 'splendiferousness',\n",
       " 'hexahedral',\n",
       " 'tithepayer',\n",
       " 'pterobranchiate',\n",
       " 'thrill',\n",
       " 'frett',\n",
       " 'Caph',\n",
       " 'nympholeptic',\n",
       " 'meltedness',\n",
       " 'ramose',\n",
       " 'pseudoisotropy',\n",
       " 'ceratopsid',\n",
       " 'freckly',\n",
       " 'firesafe',\n",
       " 'steepness',\n",
       " 'cophasal',\n",
       " 'corticipetally',\n",
       " 'sapremic',\n",
       " 'subsider',\n",
       " 'kashima',\n",
       " 'lacertoid',\n",
       " 'tallit',\n",
       " 'morganite',\n",
       " 'precynical',\n",
       " 'straightup',\n",
       " 'irremediably',\n",
       " 'vaporium',\n",
       " 'interadditive',\n",
       " 'coelect',\n",
       " 'steerman',\n",
       " 'hexametrize',\n",
       " 'gutturopalatal',\n",
       " 'retroauricular',\n",
       " 'proteose',\n",
       " 'Mirach',\n",
       " 'uncommiserated',\n",
       " 'mucosity',\n",
       " 'redeclare',\n",
       " 'smart',\n",
       " 'unfretful',\n",
       " 'yellowishness',\n",
       " 'omphalopsychite',\n",
       " 'zygomaxillary',\n",
       " 'supercerebellar',\n",
       " 'flocculent',\n",
       " 'labrusca',\n",
       " 'pyrolite',\n",
       " 'Tecpanec',\n",
       " 'orphancy',\n",
       " 'arteritis',\n",
       " 'caulome',\n",
       " 'meddler',\n",
       " 'slimish',\n",
       " 'polyprene',\n",
       " 'obstreperous',\n",
       " 'Ceratites',\n",
       " 'hayweed',\n",
       " 'aftmost',\n",
       " 'muttonhead',\n",
       " 'papillary',\n",
       " 'pseudoplasmodium',\n",
       " 'humidor',\n",
       " 'counterattractively',\n",
       " 'pseudorabies',\n",
       " 'muskeg',\n",
       " 'unrobust',\n",
       " 'nonsanction',\n",
       " 'dysplasia',\n",
       " 'unwomanlike',\n",
       " 'encomic',\n",
       " 'pregnancy',\n",
       " 'dominion',\n",
       " 'procompensation',\n",
       " 'Judaistically',\n",
       " 'theeker',\n",
       " 'anthozooid',\n",
       " 'untinted',\n",
       " 'foujdar',\n",
       " 'Pulicidae',\n",
       " 'mollifyingness',\n",
       " 'fetishism',\n",
       " 'victorium',\n",
       " 'fahlunite',\n",
       " 'boral',\n",
       " 'unexecuted',\n",
       " 'Anhalonium',\n",
       " 'gallicolous',\n",
       " 'swot',\n",
       " 'sequestrum',\n",
       " 'pomphus',\n",
       " 'Birkeniidae',\n",
       " 'Damnonii',\n",
       " 'diabolize',\n",
       " 'upkeep',\n",
       " 'solarium',\n",
       " 'pickedness',\n",
       " 'snowbound',\n",
       " 'tambourine',\n",
       " 'algous',\n",
       " 'explosibility',\n",
       " 'vervenia',\n",
       " 'eleutherodactyl',\n",
       " 'metagenetic',\n",
       " 'Enid',\n",
       " 'bandaite',\n",
       " 'Jon',\n",
       " 'hippiatry',\n",
       " 'lubber',\n",
       " 'physicky',\n",
       " 'interventricular',\n",
       " 'Khami',\n",
       " 'demiracle',\n",
       " 'pigdom',\n",
       " 'Carmelitess',\n",
       " 'theochristic',\n",
       " 'Haimavati',\n",
       " 'bakepan',\n",
       " 'telescopiform',\n",
       " 'tergiferous',\n",
       " 'precandidature',\n",
       " 'angiorrhea',\n",
       " 'planimetrical',\n",
       " 'unleaguer',\n",
       " 'rhythmicize',\n",
       " 'heterocerc',\n",
       " 'spader',\n",
       " 'deceptivity',\n",
       " 'otodynic',\n",
       " 'dapperling',\n",
       " 'dislocatory',\n",
       " 'underskin',\n",
       " 'delve',\n",
       " 'cloudy',\n",
       " 'monomer',\n",
       " 'rebounder',\n",
       " 'scincoid',\n",
       " 'passibility',\n",
       " 'rely',\n",
       " 'subjectivity',\n",
       " 'itacist',\n",
       " 'chapfallen',\n",
       " 'thrips',\n",
       " 'icefish',\n",
       " 'taliped',\n",
       " 'Yiddish',\n",
       " 'theriodic',\n",
       " 'siderous',\n",
       " 'keloidal',\n",
       " 'zoophoric',\n",
       " 'unrepresentedness',\n",
       " 'upcatch',\n",
       " 'pauseful',\n",
       " 'tenotomist',\n",
       " 'veiling',\n",
       " 'sylvic',\n",
       " 'illiterate',\n",
       " 'clodpoll',\n",
       " 'colophene',\n",
       " 'cryptocephalous',\n",
       " 'katastatic',\n",
       " 'viscacha',\n",
       " 'unnaturalness',\n",
       " 'ramshackleness',\n",
       " 'pentabromide',\n",
       " 'Aronia',\n",
       " 'semifinalist',\n",
       " 'countermigration',\n",
       " 'hypaethral',\n",
       " 'apoplex',\n",
       " 'secludedly',\n",
       " 'hypothetize',\n",
       " 'unartistic',\n",
       " 'selagite',\n",
       " 'cinene',\n",
       " 'drawknot',\n",
       " 'unmetaphorical',\n",
       " 'Calliandra',\n",
       " 'razormaking',\n",
       " 'Cryptozonia',\n",
       " 'quale',\n",
       " 'Batrachoididae',\n",
       " 'holochordate',\n",
       " 'proparticipation',\n",
       " 'anticonventionalism',\n",
       " 'gyromancy',\n",
       " 'bebathe',\n",
       " 'tetrical',\n",
       " 'hogherd',\n",
       " 'nonimbricating',\n",
       " 'rejuvenescence',\n",
       " 'protoelastose',\n",
       " 'adequative',\n",
       " 'hierophantes',\n",
       " 'chartreuse',\n",
       " 'kahikatea',\n",
       " 'endearedness',\n",
       " 'unmedicable',\n",
       " 'macarism',\n",
       " 'unhated',\n",
       " 'slighted',\n",
       " 'ataxiagraph',\n",
       " 'chuddar',\n",
       " 'nonappellate',\n",
       " 'forcipiform',\n",
       " 'scelerat',\n",
       " 'simonism',\n",
       " 'galactoside',\n",
       " 'commutation',\n",
       " 'peristomal',\n",
       " 'transferrer',\n",
       " 'cleavelandite',\n",
       " 'blowlamp',\n",
       " 'unlustrous',\n",
       " 'unconvincingness',\n",
       " 'warabi',\n",
       " 'lagopous',\n",
       " 'discordantly',\n",
       " 'Octocoralla',\n",
       " 'coitus',\n",
       " 'cephalospinal',\n",
       " 'verrucose',\n",
       " 'Iberes',\n",
       " 'alkalinity',\n",
       " 'acatharsy',\n",
       " 'sans',\n",
       " 'trephine',\n",
       " 'undirectness',\n",
       " 'whites',\n",
       " 'wittily',\n",
       " 'murmurlessly',\n",
       " 'tralatitious',\n",
       " 'whoremonging',\n",
       " 'assapan',\n",
       " 'choledochal',\n",
       " 'discussionism',\n",
       " 'vanadiferous',\n",
       " 'epigenous',\n",
       " 'cetrarin',\n",
       " 'bicuspidate',\n",
       " 'foxish',\n",
       " 'nightworker',\n",
       " 'delightless',\n",
       " 'duality',\n",
       " 'supermentality',\n",
       " 'subvert',\n",
       " 'unfathomably',\n",
       " 'recondensation',\n",
       " 'heathy',\n",
       " 'waspling',\n",
       " 'cuprodescloizite',\n",
       " 'bigmouthed',\n",
       " 'heeltree',\n",
       " 'Sibiric',\n",
       " 'unboring',\n",
       " 'crudity',\n",
       " 'actionize',\n",
       " 'Endophyllum',\n",
       " 'Iraqian',\n",
       " 'palpable',\n",
       " 'underpresence',\n",
       " 'disklike',\n",
       " 'rehoe',\n",
       " 'Universalian',\n",
       " 'algometrical',\n",
       " 'adoptionist',\n",
       " 'prenominate',\n",
       " 'vegetivorous',\n",
       " 'franklandite',\n",
       " 'whistlelike',\n",
       " 'talwar',\n",
       " 'plodge',\n",
       " 'surgical',\n",
       " 'nephrotoxic',\n",
       " 'czaristic',\n",
       " 'coquille',\n",
       " 'metrodynia',\n",
       " 'nonvitrified',\n",
       " 'subreniform',\n",
       " 'crystallogenetic',\n",
       " 'anabathmos',\n",
       " 'digger',\n",
       " 'interpolator',\n",
       " 'soldierlike',\n",
       " 'fortifyingly',\n",
       " 'gutterman',\n",
       " 'railroader',\n",
       " 'Byroniana',\n",
       " 'lickspit',\n",
       " 'insultingly',\n",
       " 'slantindicularly',\n",
       " 'pennatulaceous',\n",
       " 'gastaldo',\n",
       " 'accretionary',\n",
       " 'monodynamism',\n",
       " 'aeroperitoneum',\n",
       " 'isocodeine',\n",
       " 'opalescence',\n",
       " 'unideal',\n",
       " 'cruelly',\n",
       " 'plastometer',\n",
       " 'collectioner',\n",
       " 'punitionally',\n",
       " 'Amalfitan',\n",
       " 'relament',\n",
       " 'Golgotha',\n",
       " 'enderonic',\n",
       " 'reforge',\n",
       " 'leimtype',\n",
       " 'longcloth',\n",
       " 'chromatype',\n",
       " 'caulivorous',\n",
       " 'withoutwards',\n",
       " 'kino',\n",
       " 'lousy',\n",
       " 'fibroplastic',\n",
       " 'hurtful',\n",
       " 'ketole',\n",
       " 'surrebutter',\n",
       " 'deploredly',\n",
       " 'Kenelm',\n",
       " 'undeprecated',\n",
       " 'photoheliography',\n",
       " 'protrusiveness',\n",
       " 'cylindrenchyma',\n",
       " 'traversewise',\n",
       " 'ticklesome',\n",
       " 'wherrit',\n",
       " 'pocky',\n",
       " 'ductule',\n",
       " 'carabidan',\n",
       " 'palaeontography',\n",
       " 'Lepidosiren',\n",
       " 'Balmarcodes',\n",
       " 'pinworm',\n",
       " 'mascularity',\n",
       " 'betrim',\n",
       " 'necrologue',\n",
       " 'radiothorium',\n",
       " 'burrito',\n",
       " 'nonconformable',\n",
       " 'recurvant',\n",
       " 'calciprivic',\n",
       " 'prophylaxy',\n",
       " 'thermesthesia',\n",
       " 'Actaeon',\n",
       " 'apoplectic',\n",
       " 'reopen',\n",
       " 'Moxo',\n",
       " 'overambling',\n",
       " 'Bucerotinae',\n",
       " 'polverine',\n",
       " 'smut',\n",
       " 'fermorite',\n",
       " 'sartorian',\n",
       " 'pimenton',\n",
       " 'superobstinate',\n",
       " 'Malaga',\n",
       " 'boodle',\n",
       " 'aliener',\n",
       " 'alburnum',\n",
       " 'planury',\n",
       " 'enforcedly',\n",
       " 'pourparler',\n",
       " 'cystidicolous',\n",
       " 'severance',\n",
       " 'sexennial',\n",
       " 'unwading',\n",
       " 'stroy',\n",
       " 'ean',\n",
       " 'upalley',\n",
       " 'guiltless',\n",
       " 'sonantic',\n",
       " 'ham',\n",
       " 'Iguanodon',\n",
       " 'sephirothic',\n",
       " 'dulcetly',\n",
       " 'precorrectly',\n",
       " 'Striga',\n",
       " 'supersesquitertial',\n",
       " 'foy',\n",
       " 'angulation',\n",
       " 'langbeinite',\n",
       " 'lill',\n",
       " 'return',\n",
       " 'holosteric',\n",
       " 'unidiomatic',\n",
       " 'Chaetetes',\n",
       " 'hekteus',\n",
       " 'Wenchow',\n",
       " 'Yukaghir',\n",
       " 'eupatoriaceous',\n",
       " 'fragrantly',\n",
       " 'executress',\n",
       " 'xanthodont',\n",
       " 'unduloid',\n",
       " 'garnisheement',\n",
       " 'horrification',\n",
       " 'isoquercitrin',\n",
       " 'merorganization',\n",
       " 'whistness',\n",
       " 'verily',\n",
       " 'hegemonic',\n",
       " 'sachemship',\n",
       " 'decardinalize',\n",
       " 'microsecond',\n",
       " 'defoliage',\n",
       " 'gambado',\n",
       " 'Desmoscolex',\n",
       " 'Mitannish',\n",
       " 'unwrinkled',\n",
       " 'Philomachus',\n",
       " 'deadmelt',\n",
       " 'fishworker',\n",
       " 'overannotate',\n",
       " 'recalesce',\n",
       " 'Chiasmodontidae',\n",
       " 'grozart',\n",
       " 'preservable',\n",
       " 'parasubphonate',\n",
       " 'unshaken',\n",
       " 'xenagogy',\n",
       " 'unmedicated',\n",
       " 'contumeliousness',\n",
       " 'irremediable',\n",
       " 'molossine',\n",
       " 'lightening',\n",
       " 'pathogenicity',\n",
       " 'splenulus',\n",
       " 'transpicuity',\n",
       " 'absorptively',\n",
       " 'disfavor',\n",
       " 'hypsochrome',\n",
       " 'perambulation',\n",
       " 'serumal',\n",
       " 'sextarii',\n",
       " 'sirpea',\n",
       " 'Hadromerina',\n",
       " 'Bocconia',\n",
       " 'pandour',\n",
       " 'viscerotomy',\n",
       " 'rehabilitate',\n",
       " 'coequated',\n",
       " 'Chattanooga',\n",
       " 'fortin',\n",
       " 'unprobated',\n",
       " 'concealed',\n",
       " 'detorsion',\n",
       " 'asymbiotic',\n",
       " 'sundang',\n",
       " 'alibility',\n",
       " 'superimposable',\n",
       " 'unifarious',\n",
       " 'uncongressional',\n",
       " 'dysfunction',\n",
       " 'concamerated',\n",
       " 'flexure',\n",
       " 'nosehole',\n",
       " 'paroch',\n",
       " 'uninebriating',\n",
       " 'carvership',\n",
       " 'rulemonger',\n",
       " 'frieze',\n",
       " 'sowlth',\n",
       " 'wheelmaking',\n",
       " 'mucosal',\n",
       " 'antiministerial',\n",
       " 'easeless',\n",
       " 'youngun',\n",
       " 'nouriture',\n",
       " 'dirigent',\n",
       " 'parriable',\n",
       " 'unfound',\n",
       " 'uniformness',\n",
       " 'dossier',\n",
       " 'morganatical',\n",
       " 'physoclist',\n",
       " 'unopenable',\n",
       " 'Sedum',\n",
       " 'iodic',\n",
       " 'Confucianism',\n",
       " 'arbitrer',\n",
       " 'lifefully',\n",
       " 'unsparable',\n",
       " 'taeniasis',\n",
       " 'Prunellidae',\n",
       " 'epistolatory',\n",
       " 'hoodlike',\n",
       " 'uncontrovertibleness',\n",
       " 'Elodea',\n",
       " 'formamidoxime',\n",
       " 'arrogantly',\n",
       " 'kumrah',\n",
       " 'mores',\n",
       " 'retrot',\n",
       " 'lemmoblastic',\n",
       " 'tautomerize',\n",
       " 'finalize',\n",
       " 'huckstery',\n",
       " 'lift',\n",
       " 'unheed',\n",
       " 'excursively',\n",
       " 'phenomenon',\n",
       " 'fatten',\n",
       " 'pyr',\n",
       " 'youthhead',\n",
       " 'entemple',\n",
       " 'syringeful',\n",
       " 'invigor',\n",
       " 'petalous',\n",
       " 'Darrell',\n",
       " 'nearly',\n",
       " 'postimpressionism',\n",
       " 'multiciliated',\n",
       " 'triskele',\n",
       " 'unequivocalness',\n",
       " 'eisodic',\n",
       " 'feeler',\n",
       " 'octyne',\n",
       " 'uropygium',\n",
       " 'scribal',\n",
       " 'Argonauta',\n",
       " 'sobful',\n",
       " 'unexterritoriality',\n",
       " 'Phyllospondyli',\n",
       " 'Ornithodoros',\n",
       " 'unexpired',\n",
       " 'asserter',\n",
       " 'penetrable',\n",
       " 'amphichroic',\n",
       " 'quartan',\n",
       " 'counterrevolutionize',\n",
       " 'birchen',\n",
       " 'esophagoptosis',\n",
       " 'Biblism',\n",
       " 'songfulness',\n",
       " 'beletter',\n",
       " 'magistery',\n",
       " 'circumrotatory',\n",
       " 'reest',\n",
       " 'femicide',\n",
       " 'jagrata',\n",
       " 'bure',\n",
       " 'dearworth',\n",
       " 'clima',\n",
       " 'pumpkinish',\n",
       " 'transverberate',\n",
       " 'sinusoidally',\n",
       " 'Lipobranchia',\n",
       " 'terpeneless',\n",
       " 'Lachesis',\n",
       " 'sofane',\n",
       " 'unveracity',\n",
       " 'benzhydrol',\n",
       " 'brancard',\n",
       " 'captainess',\n",
       " 'headstrongness',\n",
       " 'neuric',\n",
       " 'transparence',\n",
       " 'outthrust',\n",
       " 'cotheorist',\n",
       " 'phytogamy',\n",
       " 'rudge',\n",
       " 'skeesicks',\n",
       " 'underisive',\n",
       " 'tubularian',\n",
       " 'didymus',\n",
       " 'vermination',\n",
       " 'flagitious',\n",
       " 'humanhood',\n",
       " 'aphengescope',\n",
       " 'fleshiness',\n",
       " 'goup',\n",
       " 'gumlike',\n",
       " 'devout',\n",
       " 'microdentous',\n",
       " 'ecbolic',\n",
       " 'unstrategically',\n",
       " 'pseudoimpartial',\n",
       " 'drogherman',\n",
       " 'externally',\n",
       " 'postembryonic',\n",
       " 'kwamme',\n",
       " 'wyde',\n",
       " 'tristiloquy',\n",
       " 'millioner',\n",
       " 'glaucophanization',\n",
       " 'iao',\n",
       " 'overgirdle',\n",
       " 'tetremimeral',\n",
       " 'birdstone',\n",
       " 'impassability',\n",
       " 'erythematic',\n",
       " 'nonopacity',\n",
       " 'foreknowledge',\n",
       " 'togated',\n",
       " 'yellowish',\n",
       " 'metasilicic',\n",
       " 'sarra',\n",
       " 'microchiria',\n",
       " 'Greekist',\n",
       " 'niobic',\n",
       " 'rumor',\n",
       " 'perosmic',\n",
       " 'abreast',\n",
       " 'grudgingly',\n",
       " 'moonproof',\n",
       " 'crofterization',\n",
       " 'caproate',\n",
       " 'hydrographer',\n",
       " 'system',\n",
       " 'lilywort',\n",
       " 'scrutinizingly',\n",
       " 'pseudoparasitism',\n",
       " 'creamlike',\n",
       " 'gaudy',\n",
       " 'cloyingly',\n",
       " 'camshach',\n",
       " 'unreliance',\n",
       " 'Jacalteca',\n",
       " 'pilose',\n",
       " 'Doodia',\n",
       " 'scamper',\n",
       " 'interface',\n",
       " 'tearthumb',\n",
       " 'istoke',\n",
       " 'Ophiobatrachia',\n",
       " 'glazily',\n",
       " 'nonmutationally',\n",
       " 'shine',\n",
       " 'unsubducted',\n",
       " 'undramatical',\n",
       " 'preinsular',\n",
       " 'jackstay',\n",
       " 'scoptophiliac',\n",
       " 'deviscerate',\n",
       " 'quinine',\n",
       " 'peregrinator',\n",
       " 'pseudoviaduct',\n",
       " 'theology',\n",
       " 'therolatry',\n",
       " 'caul',\n",
       " 'universalistic',\n",
       " 'hoose',\n",
       " 'reformative',\n",
       " 'spermatoblast',\n",
       " 'selenium',\n",
       " 'Turkology',\n",
       " 'hawsepipe',\n",
       " 'atticize',\n",
       " 'forlornity',\n",
       " 'masturbational',\n",
       " 'psychesthesia',\n",
       " 'Tacanan',\n",
       " 'monticuliporoid',\n",
       " 'polyzoan',\n",
       " 'earthmaking',\n",
       " 'retraxit',\n",
       " 'riverish',\n",
       " 'parallactic',\n",
       " 'shunner',\n",
       " 'dysgenics',\n",
       " 'synovitic',\n",
       " 'uncircumspection',\n",
       " 'encephalopathy',\n",
       " 'misconduct',\n",
       " 'rescind',\n",
       " 'unembryonic',\n",
       " 'Welshry',\n",
       " 'ununderstood',\n",
       " 'iridopupillary',\n",
       " 'approbate',\n",
       " 'nonbrowsing',\n",
       " 'Palamedeidae',\n",
       " 'inhume',\n",
       " 'gonophoric',\n",
       " 'ineluctably',\n",
       " 'saccharobutyric',\n",
       " 'unprepossessing',\n",
       " 'neurobiotaxis',\n",
       " 'sneezing',\n",
       " 'waterskin',\n",
       " 'whauve',\n",
       " 'undock',\n",
       " 'dikaryophytic',\n",
       " 'enregistry',\n",
       " 'hoi',\n",
       " 'overprick',\n",
       " 'paradichlorbenzol',\n",
       " 'jimpricute',\n",
       " 'autotype',\n",
       " 'inaccordance',\n",
       " 'urnae',\n",
       " 'ptarmical',\n",
       " 'contestingly',\n",
       " 'unengaging',\n",
       " 'Dasypeltis',\n",
       " 'Taxaceae',\n",
       " 'dissensualize',\n",
       " 'unforthright',\n",
       " 'xanthopsydracia',\n",
       " 'culler',\n",
       " 'microjoule',\n",
       " 'biopsychical',\n",
       " 'temporoauricular',\n",
       " 'trophopathy',\n",
       " 'flossing',\n",
       " 'disheartener',\n",
       " 'encephalocele',\n",
       " 'unbenefiting',\n",
       " 'neurogenous',\n",
       " 'computative',\n",
       " 'microperthitic',\n",
       " 'unfastidious',\n",
       " 'myositic',\n",
       " 'matricula',\n",
       " 'wailful',\n",
       " 'arrenotokous',\n",
       " 'poriferous',\n",
       " 'hartal',\n",
       " 'culiciform',\n",
       " 'soulical',\n",
       " 'Darii',\n",
       " 'anadipsic',\n",
       " 'swoosh',\n",
       " 'parathymic',\n",
       " 'holophote',\n",
       " 'bragging',\n",
       " 'catechize',\n",
       " 'isocorybulbin',\n",
       " 'counterterror',\n",
       " 'unfactional',\n",
       " 'lobber',\n",
       " 'tonoscope',\n",
       " 'interoceptor',\n",
       " 'gaming',\n",
       " 'hellgrammite',\n",
       " 'unsnapped',\n",
       " 'guillevat',\n",
       " 'siphonet',\n",
       " 'panoplied',\n",
       " 'puppy',\n",
       " 'perivascular',\n",
       " 'unshared',\n",
       " 'accomplicity',\n",
       " 'expansionism',\n",
       " 'tonicostimulant',\n",
       " 'concatenary',\n",
       " 'macromeritic',\n",
       " 'overattention',\n",
       " 'Tama',\n",
       " 'heighday',\n",
       " 'pentacapsular',\n",
       " 'Ulonata',\n",
       " 'sublessor',\n",
       " 'copremic',\n",
       " 'dispiritment',\n",
       " 'epitritic',\n",
       " 'potamologist',\n",
       " 'embowerment',\n",
       " 'paleopedology',\n",
       " 'chromoscopic',\n",
       " 'ineligibleness',\n",
       " 'exegetical',\n",
       " 'herein',\n",
       " 'spleenishness',\n",
       " 'aleconner',\n",
       " 'interligamentous',\n",
       " 'postpaid',\n",
       " 'origination',\n",
       " 'progressivism',\n",
       " 'Promethea',\n",
       " 'antirevolutionist',\n",
       " 'pocketer',\n",
       " 'autoeducative',\n",
       " 'unperpendicular',\n",
       " 'neophrastic',\n",
       " 'vermifuge',\n",
       " 'ponder',\n",
       " 'polyglottery',\n",
       " 'Corema',\n",
       " 'playmonger',\n",
       " 'dogmata',\n",
       " 'dactylopatagium',\n",
       " 'plunge',\n",
       " 'nematoid',\n",
       " 'laparoileotomy',\n",
       " 'moy',\n",
       " 'scrobble',\n",
       " 'proairesis',\n",
       " 'unacquiescent',\n",
       " 'skiophyte',\n",
       " 'catoptrite',\n",
       " 'climber',\n",
       " 'drapping',\n",
       " 'vaire',\n",
       " 'pseudopyriform',\n",
       " 'aviator',\n",
       " 'essoinment',\n",
       " 'impervial',\n",
       " 'Babua',\n",
       " 'retrochoir',\n",
       " 'lufbery',\n",
       " 'Parisianization',\n",
       " 'epidermolysis',\n",
       " 'flam',\n",
       " 'pluvialiform',\n",
       " 'morphiomania',\n",
       " 'Acmispon',\n",
       " 'protonym',\n",
       " 'unsmotherable',\n",
       " 'scrambling',\n",
       " 'deserted',\n",
       " 'torteau',\n",
       " 'testamentary',\n",
       " 'unbefriend',\n",
       " 'vulnerability',\n",
       " 'unimolecular',\n",
       " 'pitying',\n",
       " 'laminectomy',\n",
       " 'complot',\n",
       " 'husting',\n",
       " 'periscopic',\n",
       " 'pettifogger',\n",
       " 'worst',\n",
       " 'mesophytic',\n",
       " 'ultrabrachycephaly',\n",
       " 'pestifugous',\n",
       " 'screenwise',\n",
       " 'fast',\n",
       " 'choky',\n",
       " 'nectarial',\n",
       " 'synsepalous',\n",
       " 'padge',\n",
       " 'Thespesia',\n",
       " 'Thomite',\n",
       " 'Sempervivum',\n",
       " 'inconsonant',\n",
       " 'mestome',\n",
       " 'northbound',\n",
       " 'valencianite',\n",
       " 'firebird',\n",
       " 'Satyridae',\n",
       " 'Polaris',\n",
       " 'infilm',\n",
       " 'whale',\n",
       " 'antireform',\n",
       " 'narine',\n",
       " 'inwandering',\n",
       " 'pedomorphism',\n",
       " 'germanity',\n",
       " 'unhealthfully',\n",
       " 'analysable',\n",
       " 'chemolysis',\n",
       " 'coumarin',\n",
       " 'Bakalei',\n",
       " 'discontent',\n",
       " 'hoop',\n",
       " 'outray',\n",
       " 'chiseler',\n",
       " 'overtoe',\n",
       " 'quartz',\n",
       " 'weeshy',\n",
       " 'Papilioninae',\n",
       " 'multilamellar',\n",
       " 'witchet',\n",
       " 'willfulness',\n",
       " 'dissympathize',\n",
       " 'easier',\n",
       " 'pterotheca',\n",
       " 'minutation',\n",
       " 'paraphrastic',\n",
       " 'cynaraceous',\n",
       " 'Nycticorax',\n",
       " 'abridgment',\n",
       " 'isolapachol',\n",
       " 'unexclusive',\n",
       " 'cynocrambaceous',\n",
       " 'toston',\n",
       " 'administrate',\n",
       " 'esterize',\n",
       " 'octonarian',\n",
       " 'aquatical',\n",
       " 'Avarish',\n",
       " 'englory',\n",
       " 'momentaneousness',\n",
       " 'alcoholysis',\n",
       " 'neogenetic',\n",
       " 'purism',\n",
       " 'cheoplastic',\n",
       " 'pistillary',\n",
       " 'stampless',\n",
       " 'stigmatose',\n",
       " 'opposed',\n",
       " 'nonoriental',\n",
       " 'teng',\n",
       " 'wearifully',\n",
       " 'punditry',\n",
       " 'harlequina',\n",
       " 'josh',\n",
       " 'shopkeeperish',\n",
       " 'Primulinus',\n",
       " 'linolein',\n",
       " 'courthouse',\n",
       " 'extricate',\n",
       " 'recontribute',\n",
       " 'antifatigue',\n",
       " 'elaidic',\n",
       " 'neglecter',\n",
       " 'unspike',\n",
       " 'bevomit',\n",
       " 'supermolten',\n",
       " 'synonymic',\n",
       " 'calcrete',\n",
       " 'noreast',\n",
       " 'protorosaurian',\n",
       " 'sexuale',\n",
       " 'untaxed',\n",
       " 'unsurfeited',\n",
       " 'draughthouse',\n",
       " 'perforcedly',\n",
       " 'spermatogeny',\n",
       " 'cambuca',\n",
       " 'cycledom',\n",
       " 'jettyhead',\n",
       " 'prance',\n",
       " 'apiphobia',\n",
       " 'prenotation',\n",
       " 'badenite',\n",
       " 'Rhomboganoidei',\n",
       " 'tramsmith',\n",
       " 'conspectus',\n",
       " 'melodramatically',\n",
       " 'carunculate',\n",
       " 'emigrator',\n",
       " 'pseudoparenchymatous',\n",
       " 'syncopate',\n",
       " 'unflinching',\n",
       " 'ritardando',\n",
       " 'slone',\n",
       " 'rottle',\n",
       " 'nostic',\n",
       " 'purloiner',\n",
       " 'tassago',\n",
       " ...}"
      ]
     },
     "execution_count": 86,
     "metadata": {},
     "output_type": "execute_result"
    }
   ],
   "source": [
    "words"
   ]
  },
  {
   "cell_type": "raw",
   "metadata": {},
   "source": []
  },
  {
   "cell_type": "raw",
   "metadata": {},
   "source": [
    "Longitud de palabras en tweets verdaderos vs falsos"
   ]
  },
  {
   "cell_type": "raw",
   "metadata": {},
   "source": []
  },
  {
   "cell_type": "code",
   "execution_count": 87,
   "metadata": {},
   "outputs": [
    {
     "data": {
      "text/plain": [
       "(53806, 67808)"
      ]
     },
     "execution_count": 87,
     "metadata": {},
     "output_type": "execute_result"
    }
   ],
   "source": [
    "len(twords),len(fwords)"
   ]
  },
  {
   "cell_type": "code",
   "execution_count": 88,
   "metadata": {},
   "outputs": [
    {
     "data": {
      "text/plain": [
       "4.689421254135227"
      ]
     },
     "execution_count": 88,
     "metadata": {},
     "output_type": "execute_result"
    }
   ],
   "source": [
    "pd.Series(twords).apply(len).mean()"
   ]
  },
  {
   "cell_type": "code",
   "execution_count": 89,
   "metadata": {},
   "outputs": [
    {
     "data": {
      "text/plain": [
       "4.418328220858895"
      ]
     },
     "execution_count": 89,
     "metadata": {},
     "output_type": "execute_result"
    }
   ],
   "source": [
    "pd.Series(fwords).apply(len).mean()"
   ]
  },
  {
   "cell_type": "raw",
   "metadata": {},
   "source": [
    "Se puede ver que la longitud de las palabras en tweets verdaderos es levemente mayor "
   ]
  },
  {
   "cell_type": "raw",
   "metadata": {},
   "source": []
  },
  {
   "cell_type": "markdown",
   "metadata": {},
   "source": [
    "### Palabras mas camunes verdaderos vs falsos"
   ]
  },
  {
   "cell_type": "code",
   "execution_count": 105,
   "metadata": {},
   "outputs": [
    {
     "data": {
      "image/png": "[encoded data removed]",
      "text/plain": [
       "<Figure size 576x720 with 1 Axes>"
      ]
     },
     "metadata": {
      "needs_background": "light"
     },
     "output_type": "display_data"
    }
   ],
   "source": [
    "mascara = np.array(Image.open(path + '/verdadero.png'))\n",
    "wordcloud = WordCloud(\n",
    "    background_color='#FFFFFF',\n",
    "   ##font_path = '/usr/share/fonts/truetype/tlwg/Laksaman.ttf',\n",
    "    mask=mascara,\n",
    "    ##stopwords=stopw,\n",
    "    max_words=100,\n",
    "    min_font_size=10,\n",
    "    max_font_size=100, \n",
    "    random_state=42,\n",
    "    width=1920, \n",
    "    height=1080,\n",
    "    contour_width=8,\n",
    "    contour_color='lightgreen'\n",
    ").generate(sttrue)\n",
    "\n",
    "image_colors = ImageColorGenerator(mascara)\n",
    "fig = plt.figure(1)\n",
    "\n",
    "plt.imshow(wordcloud.recolor(color_func=image_colors), interpolation=\"bilinear\")\n",
    "fig.set_size_inches(8,10)\n",
    "plt.axis('off')\n",
    "plt.savefig(\"wverdadero.png\", dpi=500)\n",
    "plt.show()"
   ]
  },
  {
   "cell_type": "code",
   "execution_count": 107,
   "metadata": {},
   "outputs": [
    {
     "data": {
      "image/png": "[encoded data removed]",
      "text/plain": [
       "<Figure size 576x720 with 1 Axes>"
      ]
     },
     "metadata": {
      "needs_background": "light"
     },
     "output_type": "display_data"
    }
   ],
   "source": [
    "mascara = np.array(Image.open(path + '/falso.png'))\n",
    "wordcloud = WordCloud(\n",
    "    background_color='#FFFFFF',\n",
    "   ##font_path = '/usr/share/fonts/truetype/tlwg/Laksaman.ttf',\n",
    "    mask=mascara,\n",
    "    ##stopwords=stopw,\n",
    "    max_words=100,\n",
    "    min_font_size=10,\n",
    "    max_font_size=100, \n",
    "    random_state=42,\n",
    "    width=1920, \n",
    "    height=1080,\n",
    "    contour_width=8,\n",
    "    contour_color='#FF8582'\n",
    ").generate(stfalse)\n",
    "\n",
    "image_colors = ImageColorGenerator(mascara)\n",
    "fig = plt.figure(1)\n",
    "\n",
    "plt.imshow(wordcloud.recolor(color_func=image_colors), interpolation=\"bilinear\")\n",
    "fig.set_size_inches(8,10)\n",
    "plt.axis('off')\n",
    "plt.savefig(\"wfalso.png\", dpi=500)\n",
    "plt.show()"
   ]
  },
  {
   "cell_type": "code",
   "execution_count": null,
   "metadata": {},
   "outputs": [],
   "source": []
  }
 ],
 "metadata": {
  "kernelspec": {
   "display_name": "Python 3",
   "language": "python",
   "name": "python3"
  },
  "language_info": {
   "codemirror_mode": {
    "name": "ipython",
    "version": 3
   },
   "file_extension": ".py",
   "mimetype": "text/x-python",
   "name": "python",
   "nbconvert_exporter": "python",
   "pygments_lexer": "ipython3",
   "version": "3.7.6"
  }
 },
 "nbformat": 4,
 "nbformat_minor": 4
}
