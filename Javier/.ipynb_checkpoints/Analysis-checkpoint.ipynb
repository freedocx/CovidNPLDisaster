{
 "cells": [
  {
   "cell_type": "code",
   "execution_count": 1,
   "metadata": {},
   "outputs": [],
   "source": [
    "import pandas as pd\n",
    "import numpy as np\n",
    "import matplotlib.pyplot as plt\n",
    "import seaborn as sns\n",
    "import re"
   ]
  },
  {
   "cell_type": "code",
   "execution_count": 2,
   "metadata": {},
   "outputs": [],
   "source": [
    "def autolabelint(ax,rects,fsize,col):\n",
    "    for rect in rects:\n",
    "        ax.text(rect.get_x() + rect.get_width()/2 ,\n",
    "            rect.get_height(),\n",
    "            '%d' % int(rect.get_height()),\n",
    "            ha='center',\n",
    "            va='bottom',\n",
    "            fontweight='bold',\n",
    "            color = col,\n",
    "            fontsize = ((fsize[1]+fsize[0])/2) + 5\n",
    "           )"
   ]
  },
  {
   "cell_type": "code",
   "execution_count": 3,
   "metadata": {},
   "outputs": [],
   "source": [
    "train = pd.read_csv(\"../train.csv\")"
   ]
  },
  {
   "cell_type": "code",
   "execution_count": 4,
   "metadata": {},
   "outputs": [
    {
     "data": {
      "text/html": [
       "<div>\n",
       "<style scoped>\n",
       "    .dataframe tbody tr th:only-of-type {\n",
       "        vertical-align: middle;\n",
       "    }\n",
       "\n",
       "    .dataframe tbody tr th {\n",
       "        vertical-align: top;\n",
       "    }\n",
       "\n",
       "    .dataframe thead th {\n",
       "        text-align: right;\n",
       "    }\n",
       "</style>\n",
       "<table border=\"1\" class=\"dataframe\">\n",
       "  <thead>\n",
       "    <tr style=\"text-align: right;\">\n",
       "      <th></th>\n",
       "      <th>id</th>\n",
       "      <th>keyword</th>\n",
       "      <th>location</th>\n",
       "      <th>text</th>\n",
       "      <th>target</th>\n",
       "    </tr>\n",
       "  </thead>\n",
       "  <tbody>\n",
       "    <tr>\n",
       "      <th>0</th>\n",
       "      <td>1</td>\n",
       "      <td>NaN</td>\n",
       "      <td>NaN</td>\n",
       "      <td>Our Deeds are the Reason of this #earthquake M...</td>\n",
       "      <td>1</td>\n",
       "    </tr>\n",
       "    <tr>\n",
       "      <th>1</th>\n",
       "      <td>4</td>\n",
       "      <td>NaN</td>\n",
       "      <td>NaN</td>\n",
       "      <td>Forest fire near La Ronge Sask. Canada</td>\n",
       "      <td>1</td>\n",
       "    </tr>\n",
       "    <tr>\n",
       "      <th>2</th>\n",
       "      <td>5</td>\n",
       "      <td>NaN</td>\n",
       "      <td>NaN</td>\n",
       "      <td>All residents asked to 'shelter in place' are ...</td>\n",
       "      <td>1</td>\n",
       "    </tr>\n",
       "    <tr>\n",
       "      <th>3</th>\n",
       "      <td>6</td>\n",
       "      <td>NaN</td>\n",
       "      <td>NaN</td>\n",
       "      <td>13,000 people receive #wildfires evacuation or...</td>\n",
       "      <td>1</td>\n",
       "    </tr>\n",
       "    <tr>\n",
       "      <th>4</th>\n",
       "      <td>7</td>\n",
       "      <td>NaN</td>\n",
       "      <td>NaN</td>\n",
       "      <td>Just got sent this photo from Ruby #Alaska as ...</td>\n",
       "      <td>1</td>\n",
       "    </tr>\n",
       "  </tbody>\n",
       "</table>\n",
       "</div>"
      ],
      "text/plain": [
       "   id keyword location                                               text  \\\n",
       "0   1     NaN      NaN  Our Deeds are the Reason of this #earthquake M...   \n",
       "1   4     NaN      NaN             Forest fire near La Ronge Sask. Canada   \n",
       "2   5     NaN      NaN  All residents asked to 'shelter in place' are ...   \n",
       "3   6     NaN      NaN  13,000 people receive #wildfires evacuation or...   \n",
       "4   7     NaN      NaN  Just got sent this photo from Ruby #Alaska as ...   \n",
       "\n",
       "   target  \n",
       "0       1  \n",
       "1       1  \n",
       "2       1  \n",
       "3       1  \n",
       "4       1  "
      ]
     },
     "execution_count": 4,
     "metadata": {},
     "output_type": "execute_result"
    }
   ],
   "source": [
    "train.head()"
   ]
  },
  {
   "cell_type": "code",
   "execution_count": 5,
   "metadata": {},
   "outputs": [],
   "source": [
    "finger = train.drop(columns=[\"keyword\",\"location\",\"id\"])"
   ]
  },
  {
   "cell_type": "code",
   "execution_count": 6,
   "metadata": {},
   "outputs": [
    {
     "data": {
      "text/html": [
       "<div>\n",
       "<style scoped>\n",
       "    .dataframe tbody tr th:only-of-type {\n",
       "        vertical-align: middle;\n",
       "    }\n",
       "\n",
       "    .dataframe tbody tr th {\n",
       "        vertical-align: top;\n",
       "    }\n",
       "\n",
       "    .dataframe thead th {\n",
       "        text-align: right;\n",
       "    }\n",
       "</style>\n",
       "<table border=\"1\" class=\"dataframe\">\n",
       "  <thead>\n",
       "    <tr style=\"text-align: right;\">\n",
       "      <th></th>\n",
       "      <th>target</th>\n",
       "      <th>Caracteres</th>\n",
       "      <th>Palabras</th>\n",
       "      <th>Caracteres no alfanuméricos</th>\n",
       "      <th>Caracteres de expresión !?</th>\n",
       "      <th>Etiquetas</th>\n",
       "      <th>Menciones</th>\n",
       "    </tr>\n",
       "  </thead>\n",
       "  <tbody>\n",
       "    <tr>\n",
       "      <th>0</th>\n",
       "      <td>1</td>\n",
       "      <td>69</td>\n",
       "      <td>13</td>\n",
       "      <td>0</td>\n",
       "      <td>0</td>\n",
       "      <td>1</td>\n",
       "      <td>0</td>\n",
       "    </tr>\n",
       "    <tr>\n",
       "      <th>1</th>\n",
       "      <td>1</td>\n",
       "      <td>38</td>\n",
       "      <td>7</td>\n",
       "      <td>1</td>\n",
       "      <td>0</td>\n",
       "      <td>0</td>\n",
       "      <td>0</td>\n",
       "    </tr>\n",
       "    <tr>\n",
       "      <th>2</th>\n",
       "      <td>1</td>\n",
       "      <td>133</td>\n",
       "      <td>22</td>\n",
       "      <td>3</td>\n",
       "      <td>0</td>\n",
       "      <td>0</td>\n",
       "      <td>0</td>\n",
       "    </tr>\n",
       "    <tr>\n",
       "      <th>3</th>\n",
       "      <td>1</td>\n",
       "      <td>65</td>\n",
       "      <td>9</td>\n",
       "      <td>1</td>\n",
       "      <td>0</td>\n",
       "      <td>1</td>\n",
       "      <td>0</td>\n",
       "    </tr>\n",
       "    <tr>\n",
       "      <th>4</th>\n",
       "      <td>1</td>\n",
       "      <td>88</td>\n",
       "      <td>17</td>\n",
       "      <td>0</td>\n",
       "      <td>0</td>\n",
       "      <td>2</td>\n",
       "      <td>0</td>\n",
       "    </tr>\n",
       "  </tbody>\n",
       "</table>\n",
       "</div>"
      ],
      "text/plain": [
       "   target  Caracteres  Palabras  Caracteres no alfanuméricos  \\\n",
       "0       1          69        13                            0   \n",
       "1       1          38         7                            1   \n",
       "2       1         133        22                            3   \n",
       "3       1          65         9                            1   \n",
       "4       1          88        17                            0   \n",
       "\n",
       "   Caracteres de expresión !?  Etiquetas  Menciones  \n",
       "0                           0          1          0  \n",
       "1                           0          0          0  \n",
       "2                           0          0          0  \n",
       "3                           0          1          0  \n",
       "4                           0          2          0  "
      ]
     },
     "execution_count": 6,
     "metadata": {},
     "output_type": "execute_result"
    }
   ],
   "source": [
    "def non_alphanum(x):\n",
    "    return len(re.findall(r'[^a-zA-Z0-9 ]',x))\n",
    "def hashtags(x): \n",
    "    return len(re.findall(r'#[a-zA-z0-9_]',x))\n",
    "def arrobas(x):\n",
    "    return len(re.findall(r'@[a-zA-z0-9_]',x))\n",
    "def expresion(x):\n",
    "    return (x.count('?') + x.count('!'))\n",
    "def urls(x):\n",
    "    re.findall(r'(http|ftp|https)://([\\w_-]+(?:(?:\\.[\\w_-]+)+))([\\w.,@?^=%&:/~+#-]*[\\w@?^=%&/~+#-])?')\n",
    "finger[[\"Caracteres\",\"Palabras\",\\\n",
    "            \"Caracteres no alfanuméricos\",\"Caracteres de expresión !?\",\\\n",
    "                \"Etiquetas\", \"Menciones\"]] \\\n",
    "= finger[\"text\"].apply(lambda x: pd.Series([len(x),len(x.split(\" \"))\\\n",
    "                                    ,non_alphanum(x),expresion(x)\n",
    "                                            ,hashtags(x),arrobas(x)]))\n",
    "\n",
    "finger[\"Caracteres no alfanuméricos\"] = \\\n",
    "finger[\"Caracteres no alfanuméricos\"] - finger[\"Etiquetas\"] \\\n",
    "                                        - finger[\"Menciones\"]\n",
    "\n",
    "finger.drop(columns=[\"text\"],inplace=True)\n",
    "finger.head()"
   ]
  },
  {
   "cell_type": "code",
   "execution_count": 7,
   "metadata": {},
   "outputs": [
    {
     "data": {
      "text/plain": [
       "Text(0, 0.5, '')"
      ]
     },
     "execution_count": 7,
     "metadata": {},
     "output_type": "execute_result"
    },
    {
     "data": {
      "image/png": "[encoded data removed]",
      "text/plain": [
       "<Figure size 1440x1080 with 1 Axes>"
      ]
     },
     "metadata": {},
     "output_type": "display_data"
    }
   ],
   "source": [
    "melted = pd.melt(finger, id_vars=\"target\")\n",
    "melted.loc[melted[\"target\"] == 0, \"target\"] = \"No real\"\n",
    "melted.loc[melted[\"target\"] == 1, \"target\"] = \"Real\"\n",
    "melted.rename(columns={\"value\":\"Longitud\",\"variable\":\"Variables\"},inplace=True)\n",
    "sns.set(rc={'figure.figsize':(20,15)})\n",
    "sns.set(font_scale=1.5)\n",
    "plot = sns.boxplot(x='Longitud',y=\"Variables\",data=melted,hue='target')\n",
    "plot.axes.set_title('Longitud por variables de los tweets',fontsize=30, y=1.009)\n",
    "plot.set_xlabel(\"Longitud\",fontsize=25)\n",
    "plot.set_ylabel(\"\",fontsize=0)\n",
    "#plot.get_figure().savefig(\"finger.png\")"
   ]
  },
  {
   "cell_type": "markdown",
   "metadata": {},
   "source": [
    " \n"
   ]
  },
  {
   "cell_type": "markdown",
   "metadata": {},
   "source": [
    "Uso expresiones regulares para hallar menciones, etiquetas y URLs en los tweets."
   ]
  },
  {
   "cell_type": "code",
   "execution_count": 8,
   "metadata": {},
   "outputs": [],
   "source": [
    "def get_links(x):\n",
    "    links = list()\n",
    "    l = re.findall(r'(http|ftp|https)://([\\w_-]+(?:(?:\\.[\\w_-]+)+))([\\w.,@?^=%&:/~+#-]*[\\w@?^=%&/~+#-])?',x)\n",
    "    #for tup in l:\n",
    "    #    links.append(chase_redirects(tup[0] + \"://\" + ''.join(tup[1:])))\n",
    "    return l\n",
    "\n",
    "def hashtags(x): \n",
    "    return re.findall(r'#[a-zA-z0-9_]{1,}',x)\n",
    "def arrobas(x):\n",
    "    return re.findall(r'@[a-zA-z0-9_]{1,}',x)\n",
    "\n",
    "train[[\"Menciones\",\"Etiquetas\",\"Enlaces\"]] =\\\n",
    "                        train[\"text\"].apply(lambda x: pd.Series([arrobas(x),hashtags(x),get_links(x)]))"
   ]
  },
  {
   "cell_type": "code",
   "execution_count": 9,
   "metadata": {},
   "outputs": [
    {
     "name": "stdout",
     "output_type": "stream",
     "text": [
      "<class 'pandas.core.frame.DataFrame'>\n",
      "RangeIndex: 7613 entries, 0 to 7612\n",
      "Data columns (total 8 columns):\n",
      "id           7613 non-null int64\n",
      "keyword      7552 non-null object\n",
      "location     5080 non-null object\n",
      "text         7613 non-null object\n",
      "target       7613 non-null int64\n",
      "Menciones    7613 non-null object\n",
      "Etiquetas    7613 non-null object\n",
      "Enlaces      7613 non-null object\n",
      "dtypes: int64(2), object(6)\n",
      "memory usage: 475.9+ KB\n"
     ]
    }
   ],
   "source": [
    "train.info()"
   ]
  },
  {
   "cell_type": "code",
   "execution_count": 10,
   "metadata": {},
   "outputs": [
    {
     "name": "stderr",
     "output_type": "stream",
     "text": [
      "C:\\Users\\No\\Anaconda3\\lib\\site-packages\\ipykernel_launcher.py:12: SettingWithCopyWarning: \n",
      "A value is trying to be set on a copy of a slice from a DataFrame.\n",
      "Try using .loc[row_indexer,col_indexer] = value instead\n",
      "\n",
      "See the caveats in the documentation: http://pandas.pydata.org/pandas-docs/stable/indexing.html#indexing-view-versus-copy\n",
      "  if sys.path[0] == '':\n",
      "C:\\Users\\No\\Anaconda3\\lib\\site-packages\\ipykernel_launcher.py:13: SettingWithCopyWarning: \n",
      "A value is trying to be set on a copy of a slice from a DataFrame.\n",
      "Try using .loc[row_indexer,col_indexer] = value instead\n",
      "\n",
      "See the caveats in the documentation: http://pandas.pydata.org/pandas-docs/stable/indexing.html#indexing-view-versus-copy\n",
      "  del sys.path[0]\n",
      "C:\\Users\\No\\Anaconda3\\lib\\site-packages\\ipykernel_launcher.py:14: SettingWithCopyWarning: \n",
      "A value is trying to be set on a copy of a slice from a DataFrame.\n",
      "Try using .loc[row_indexer,col_indexer] = value instead\n",
      "\n",
      "See the caveats in the documentation: http://pandas.pydata.org/pandas-docs/stable/indexing.html#indexing-view-versus-copy\n",
      "  \n"
     ]
    },
    {
     "data": {
      "image/png": "[encoded data removed]",
      "text/plain": [
       "<Figure size 720x720 with 2 Axes>"
      ]
     },
     "metadata": {},
     "output_type": "display_data"
    }
   ],
   "source": [
    "def correlation_heatmap(df):\n",
    "    normalized_df=(df-df.mean())/df.std()\n",
    "    correlations = normalized_df.corr(method='spearman')\n",
    "\n",
    "    fig, ax = plt.subplots(figsize=(10,10))\n",
    "    sns.heatmap(correlations, vmax=1.0, center=0, fmt='.2f',\n",
    "                square=True, linewidths=.5, annot=True,cmap=\"Reds\", cbar_kws={\"shrink\": .70})\n",
    "    plt.show();\n",
    "\n",
    "cantidades = train[[\"target\",\"Menciones\",\"Etiquetas\",\"Enlaces\"]]\n",
    "\n",
    "cantidades[\"Menciones\"] = cantidades[\"Menciones\"].apply(lambda x: len(x))\n",
    "cantidades[\"Etiquetas\"] = cantidades[\"Etiquetas\"].apply(lambda x: len(x))\n",
    "cantidades[\"Enlaces\"] = cantidades[\"Enlaces\"].apply(lambda x: len(x))\n",
    "correlation_heatmap(cantidades)"
   ]
  },
  {
   "cell_type": "code",
   "execution_count": 11,
   "metadata": {},
   "outputs": [
    {
     "name": "stderr",
     "output_type": "stream",
     "text": [
      "C:\\Users\\No\\Anaconda3\\lib\\site-packages\\ipykernel_launcher.py:11: SettingWithCopyWarning: \n",
      "A value is trying to be set on a copy of a slice from a DataFrame.\n",
      "Try using .loc[row_indexer,col_indexer] = value instead\n",
      "\n",
      "See the caveats in the documentation: http://pandas.pydata.org/pandas-docs/stable/indexing.html#indexing-view-versus-copy\n",
      "  # This is added back by InteractiveShellApp.init_path()\n",
      "C:\\Users\\No\\Anaconda3\\lib\\site-packages\\ipykernel_launcher.py:12: SettingWithCopyWarning: \n",
      "A value is trying to be set on a copy of a slice from a DataFrame.\n",
      "Try using .loc[row_indexer,col_indexer] = value instead\n",
      "\n",
      "See the caveats in the documentation: http://pandas.pydata.org/pandas-docs/stable/indexing.html#indexing-view-versus-copy\n",
      "  if sys.path[0] == '':\n",
      "C:\\Users\\No\\Anaconda3\\lib\\site-packages\\ipykernel_launcher.py:13: SettingWithCopyWarning: \n",
      "A value is trying to be set on a copy of a slice from a DataFrame.\n",
      "Try using .loc[row_indexer,col_indexer] = value instead\n",
      "\n",
      "See the caveats in the documentation: http://pandas.pydata.org/pandas-docs/stable/indexing.html#indexing-view-versus-copy\n",
      "  del sys.path[0]\n"
     ]
    },
    {
     "data": {
      "image/png": "[encoded data removed]",
      "text/plain": [
       "<Figure size 720x720 with 2 Axes>"
      ]
     },
     "metadata": {},
     "output_type": "display_data"
    }
   ],
   "source": [
    "def correlation_heatmap(train):\n",
    "    correlations = train.corr()\n",
    "\n",
    "    fig, ax = plt.subplots(figsize=(10,10))\n",
    "    sns.heatmap(correlations, vmax=1.0, center=0, fmt='.2f',\n",
    "                square=True, linewidths=.5, annot=True,cmap=\"Reds\", cbar_kws={\"shrink\": .70})\n",
    "    plt.show();\n",
    "\n",
    "cantidades = train[[\"target\",\"Menciones\",\"Etiquetas\",\"Enlaces\"]]\n",
    "\n",
    "cantidades[\"Menciones\"] = cantidades[\"Menciones\"].apply(lambda x: 0 if len(x) == 0 else 1)\n",
    "cantidades[\"Etiquetas\"] = cantidades[\"Etiquetas\"].apply(lambda x: 0 if len(x) == 0 else 1)\n",
    "cantidades[\"Enlaces\"] = cantidades[\"Enlaces\"].apply(lambda x: 0 if len(x) == 0 else 1)\n",
    "\n",
    "correlation_heatmap(cantidades)"
   ]
  },
  {
   "cell_type": "code",
   "execution_count": 12,
   "metadata": {},
   "outputs": [
    {
     "data": {
      "text/plain": [
       "<matplotlib.legend.Legend at 0x1b39f8b5588>"
      ]
     },
     "execution_count": 12,
     "metadata": {},
     "output_type": "execute_result"
    },
    {
     "data": {
      "image/png": "[encoded data removed]",
      "text/plain": [
       "<Figure size 432x360 with 1 Axes>"
      ]
     },
     "metadata": {},
     "output_type": "display_data"
    }
   ],
   "source": [
    "fsize = (6,5)\n",
    "fig, ax = plt.subplots(figsize=fsize)\n",
    "false = cantidades.loc[cantidades[\"target\"] == 0]\n",
    "true = cantidades.loc[cantidades[\"target\"] == 1]\n",
    "bars1 = [true[\"Menciones\"].sum(),true[\"Etiquetas\"].sum(),true[\"Enlaces\"].sum()]\n",
    "bars2 = [false[\"Menciones\"].sum(),false[\"Etiquetas\"].sum(),false[\"Enlaces\"].sum()]\n",
    "r1 = np.arange(len(bars1))\n",
    "r2 = [x + 0.3 for x in r1]\n",
    "rects1 = ax.bar(r1, bars1, color='#52D9DC', width=0.3, edgecolor='white', label='Verdaderos')\n",
    "rects2 = ax.bar(r2, bars2, color='#DC5552', width=0.3, edgecolor='white', label='Falsos')\n",
    "\n",
    "ax.set_title('Analisis de la Interacción en los Tweets.',fontweight='bold')\n",
    "ax.set_ylabel('Cantidad',fontweight='bold')\n",
    "ax.set_yticks([])\n",
    "ax.xaxis.set_ticks_position('none')\n",
    "plt.xlabel('Tweets con', fontweight='bold')\n",
    "plt.xticks([r+0.15 for r in range(len(bars1))], ['Menciones', 'Etiquetas', 'Enlaces'])\n",
    "autolabelint(ax,rects1,fsize,'#379092')\n",
    "autolabelint(ax,rects2,fsize,'#8C3634')\n",
    "plt.legend()"
   ]
  },
  {
   "cell_type": "markdown",
   "metadata": {},
   "source": [
    "#### Limpieza de menciones"
   ]
  },
  {
   "cell_type": "code",
   "execution_count": 13,
   "metadata": {},
   "outputs": [
    {
     "name": "stdout",
     "output_type": "stream",
     "text": [
      "Total de menciones:  2715\n",
      "Total de menciones sin duplicados dentro de los tweets:   2708\n"
     ]
    }
   ],
   "source": [
    "menciones = train.loc[train[\"Menciones\"].str.len() > 0, [\"Menciones\",\"target\"]]\n",
    "print(\"Total de menciones: \",len(menciones[\"Menciones\"].sum()))\n",
    "# Menciones unicas por tweet\n",
    "print(\"Total de menciones sin duplicados dentro de los tweets:  \",\\\n",
    "     len(menciones[\"Menciones\"].apply(lambda x: list(set(x))).sum()))"
   ]
  },
  {
   "cell_type": "code",
   "execution_count": 14,
   "metadata": {},
   "outputs": [],
   "source": [
    "def duplicada(x):\n",
    "    if len(x) == len(set(x)):\n",
    "        return False\n",
    "    else:\n",
    "        return True\n",
    "menciones[\"mencion_duplicada\"] = menciones[\"Menciones\"].apply(duplicada)"
   ]
  },
  {
   "cell_type": "code",
   "execution_count": 15,
   "metadata": {},
   "outputs": [
    {
     "data": {
      "text/html": [
       "<div>\n",
       "<style scoped>\n",
       "    .dataframe tbody tr th:only-of-type {\n",
       "        vertical-align: middle;\n",
       "    }\n",
       "\n",
       "    .dataframe tbody tr th {\n",
       "        vertical-align: top;\n",
       "    }\n",
       "\n",
       "    .dataframe thead th {\n",
       "        text-align: right;\n",
       "    }\n",
       "</style>\n",
       "<table border=\"1\" class=\"dataframe\">\n",
       "  <thead>\n",
       "    <tr style=\"text-align: right;\">\n",
       "      <th></th>\n",
       "      <th>Menciones</th>\n",
       "      <th>target</th>\n",
       "      <th>mencion_duplicada</th>\n",
       "    </tr>\n",
       "  </thead>\n",
       "  <tbody>\n",
       "    <tr>\n",
       "      <th>1449</th>\n",
       "      <td>[@GreenHarvard, @GreenHarvard]</td>\n",
       "      <td>1</td>\n",
       "      <td>True</td>\n",
       "    </tr>\n",
       "    <tr>\n",
       "      <th>1781</th>\n",
       "      <td>[@meinlcymbals, @meinlcymbals]</td>\n",
       "      <td>0</td>\n",
       "      <td>True</td>\n",
       "    </tr>\n",
       "    <tr>\n",
       "      <th>1994</th>\n",
       "      <td>[@IndiGo6E, @the, @the]</td>\n",
       "      <td>0</td>\n",
       "      <td>True</td>\n",
       "    </tr>\n",
       "    <tr>\n",
       "      <th>3205</th>\n",
       "      <td>[@TfLBusAlerts, @TfLBusAlerts]</td>\n",
       "      <td>1</td>\n",
       "      <td>True</td>\n",
       "    </tr>\n",
       "    <tr>\n",
       "      <th>4999</th>\n",
       "      <td>[@TeamHendrick, @TeamHendrick, @RIRInsider, @n...</td>\n",
       "      <td>0</td>\n",
       "      <td>True</td>\n",
       "    </tr>\n",
       "    <tr>\n",
       "      <th>5640</th>\n",
       "      <td>[@KristinDavis, @UN, @Refugees, @UN, @Refugees]</td>\n",
       "      <td>0</td>\n",
       "      <td>True</td>\n",
       "    </tr>\n",
       "  </tbody>\n",
       "</table>\n",
       "</div>"
      ],
      "text/plain": [
       "                                              Menciones  target  \\\n",
       "1449                     [@GreenHarvard, @GreenHarvard]       1   \n",
       "1781                     [@meinlcymbals, @meinlcymbals]       0   \n",
       "1994                            [@IndiGo6E, @the, @the]       0   \n",
       "3205                     [@TfLBusAlerts, @TfLBusAlerts]       1   \n",
       "4999  [@TeamHendrick, @TeamHendrick, @RIRInsider, @n...       0   \n",
       "5640    [@KristinDavis, @UN, @Refugees, @UN, @Refugees]       0   \n",
       "\n",
       "      mencion_duplicada  \n",
       "1449               True  \n",
       "1781               True  \n",
       "1994               True  \n",
       "3205               True  \n",
       "4999               True  \n",
       "5640               True  "
      ]
     },
     "execution_count": 15,
     "metadata": {},
     "output_type": "execute_result"
    }
   ],
   "source": [
    "menciones.loc[menciones[\"mencion_duplicada\"]]"
   ]
  },
  {
   "cell_type": "markdown",
   "metadata": {},
   "source": [
    "cómo no tienen mucho significado y solamente se repiten 2 veces, voy a desecharlas"
   ]
  },
  {
   "cell_type": "code",
   "execution_count": 16,
   "metadata": {},
   "outputs": [],
   "source": [
    "menciones.drop(columns = [\"mencion_duplicada\"],inplace=True)\n",
    "menciones[\"Menciones\"] = menciones[\"Menciones\"].apply(lambda x: list(set(x)))"
   ]
  },
  {
   "cell_type": "code",
   "execution_count": 17,
   "metadata": {},
   "outputs": [
    {
     "data": {
      "text/plain": [
       "@YouTube            82\n",
       "@ArianaGrande       11\n",
       "@Change              9\n",
       "@POTUS               9\n",
       "@FoxNews             9\n",
       "@emmerdale           8\n",
       "@justinbieber        7\n",
       "@djicemoon           7\n",
       "@MikeParrActor       6\n",
       "@Stretcher           6\n",
       "@Towel               6\n",
       "@USAgov              5\n",
       "@ViralSpell          5\n",
       "@invalid             5\n",
       "@AP                  5\n",
       "@usatoday            5\n",
       "@YoungHeroesID       5\n",
       "@unsuckdcmetro       4\n",
       "@LoneWolffur         4\n",
       "@USATODAY            4\n",
       "@KurtSchlichter      4\n",
       "@RaynbowAffair       4\n",
       "@Reuters             4\n",
       "@worldnetdaily       4\n",
       "@Grazed              4\n",
       "@Rexyy               4\n",
       "@DiamondKesawn       4\n",
       "@local_arsonist      4\n",
       "@Michael5SOS         4\n",
       "@X                   3\n",
       "                    ..\n",
       "@Mixify              1\n",
       "@ryanoss123          1\n",
       "@Progress4Ohio       1\n",
       "@NBCPolitics         1\n",
       "@GeoffRickly         1\n",
       "@Wars_Goddess        1\n",
       "@TheJonesesVoice     1\n",
       "@bigperm28           1\n",
       "@NemesisK_PES        1\n",
       "@hrips_k             1\n",
       "@_jeesss_            1\n",
       "@Ieansquad           1\n",
       "@Vicken52            1\n",
       "@kotowsa             1\n",
       "@MissJadeBrown       1\n",
       "@JessieNovoaRP       1\n",
       "@lindsay_wynn3       1\n",
       "@Glosblue66          1\n",
       "@cspanwj             1\n",
       "@shantaeskyy         1\n",
       "@ALIPAPER            1\n",
       "@EnvySeven           1\n",
       "@willienelson        1\n",
       "@ThatSabineGirl      1\n",
       "@sholt87             1\n",
       "@YahooFinance        1\n",
       "@RedCoatJackpot      1\n",
       "@nevaehburton33      1\n",
       "@kadiegrr            1\n",
       "@rangerkaitimay      1\n",
       "Length: 2326, dtype: int64"
      ]
     },
     "execution_count": 17,
     "metadata": {},
     "output_type": "execute_result"
    }
   ],
   "source": [
    "pd.Series(menciones[\"Menciones\"].sum()).value_counts()"
   ]
  },
  {
   "cell_type": "code",
   "execution_count": 18,
   "metadata": {},
   "outputs": [
    {
     "data": {
      "text/plain": [
       "@YouTube            65\n",
       "@ArianaGrande       11\n",
       "@djicemoon           7\n",
       "@emmerdale           7\n",
       "@justinbieber        7\n",
       "@MikeParrActor       6\n",
       "@Towel               5\n",
       "@invalid             5\n",
       "@Stretcher           5\n",
       "@Change              5\n",
       "@LoneWolffur         4\n",
       "@local_arsonist      4\n",
       "@DiamondKesawn       4\n",
       "@worldnetdaily       4\n",
       "@Grazed              4\n",
       "@RaynbowAffair       4\n",
       "@iTunesMusic         3\n",
       "@IAN_Hellfire        3\n",
       "@Rexyy               3\n",
       "@Foxy__Siren         3\n",
       "@dannyonpc           3\n",
       "@realmandyrain       3\n",
       "@TrubGME             3\n",
       "@YoungHeroesID       3\n",
       "@iTunes              3\n",
       "@realDonaldTrump     3\n",
       "@ClaytonBryant       3\n",
       "@X                   3\n",
       "@TinyJecht           3\n",
       "@eBay                3\n",
       "                    ..\n",
       "@KushWush            1\n",
       "@TheDailyShow        1\n",
       "@audacityjamesta     1\n",
       "@GIANTGIANTSOUND     1\n",
       "@_OnlyFTF            1\n",
       "@SyringeToAnger      1\n",
       "@bre_morrow          1\n",
       "@Starflame_girl      1\n",
       "@FredOlsenCruise     1\n",
       "@VETS78734           1\n",
       "@SexyDragonMagic     1\n",
       "@MarioMaraczi        1\n",
       "@MoFanon             1\n",
       "@be_ram0s            1\n",
       "@stevenrulles        1\n",
       "@wired               1\n",
       "@BBC                 1\n",
       "@DustinBrowder       1\n",
       "@CristianInspire     1\n",
       "@nuggets             1\n",
       "@ShaniaTwain         1\n",
       "@DrMartyFox          1\n",
       "@JustinTrudeau       1\n",
       "@leashless           1\n",
       "@lucypalladino       1\n",
       "@IceQueenFroslas     1\n",
       "@msnbc               1\n",
       "@Georgous__          1\n",
       "@PhDSquares          1\n",
       "@eac4AU              1\n",
       "Length: 1591, dtype: int64"
      ]
     },
     "execution_count": 18,
     "metadata": {},
     "output_type": "execute_result"
    }
   ],
   "source": [
    "pd.Series(menciones[\"Menciones\"].loc[menciones[\"target\"] == 0].sum()).value_counts()"
   ]
  },
  {
   "cell_type": "code",
   "execution_count": 19,
   "metadata": {},
   "outputs": [
    {
     "data": {
      "text/plain": [
       "@YouTube            17\n",
       "@FoxNews             8\n",
       "@POTUS               6\n",
       "@USAgov              5\n",
       "@AP                  5\n",
       "@Change              4\n",
       "@unsuckdcmetro       4\n",
       "@Michael5SOS         3\n",
       "@usatoday            3\n",
       "@MNPDNashville       3\n",
       "@smh                 3\n",
       "@sharethis           3\n",
       "@ViralSpell          3\n",
       "@KurtSchlichter      3\n",
       "@NASAHurricane       3\n",
       "@Reuters             3\n",
       "@TheTawniest         2\n",
       "@LondonFire          2\n",
       "@themagickidraps     2\n",
       "@cnewslive           2\n",
       "@NBCNews             2\n",
       "@RoyalCarribean      2\n",
       "@gofundme            2\n",
       "@newyorker           2\n",
       "@1                   2\n",
       "@BLutz10             2\n",
       "@weathernetwork      2\n",
       "@wocowae             2\n",
       "@Newz_Sacramento     2\n",
       "@ameenshaikh3        2\n",
       "                    ..\n",
       "@volcanodiscover     1\n",
       "@TrueDiagnosis       1\n",
       "@Ashayo              1\n",
       "@kierannicholson     1\n",
       "@random_tourist      1\n",
       "@Argus_99            1\n",
       "@adndotcom           1\n",
       "@daisycuttertz       1\n",
       "@kendra_leigh13      1\n",
       "@bluebirddenver      1\n",
       "@APhiABeta1907       1\n",
       "@Dirk_NoMissSki      1\n",
       "@Allahsfinest12      1\n",
       "@RayquazaErk         1\n",
       "@rinkydnk2           1\n",
       "@kiranahmedd         1\n",
       "@marcoarment         1\n",
       "@CstSmith            1\n",
       "@Erasuterism         1\n",
       "@dacherryontop13     1\n",
       "@Praiz8              1\n",
       "@crazydoctorlady     1\n",
       "@_gaabyx             1\n",
       "@PressTV             1\n",
       "@KabarMesir          1\n",
       "@adultblackmale      1\n",
       "@CAREemergencies     1\n",
       "@PTSD_Chat           1\n",
       "@Raishimi33          1\n",
       "@emmychappy          1\n",
       "Length: 795, dtype: int64"
      ]
     },
     "execution_count": 19,
     "metadata": {},
     "output_type": "execute_result"
    }
   ],
   "source": [
    "pd.Series(menciones[\"Menciones\"].loc[menciones[\"target\"] == 1].sum()).value_counts()"
   ]
  },
  {
   "cell_type": "code",
   "execution_count": 20,
   "metadata": {},
   "outputs": [
    {
     "data": {
      "text/html": [
       "<div>\n",
       "<style scoped>\n",
       "    .dataframe tbody tr th:only-of-type {\n",
       "        vertical-align: middle;\n",
       "    }\n",
       "\n",
       "    .dataframe tbody tr th {\n",
       "        vertical-align: top;\n",
       "    }\n",
       "\n",
       "    .dataframe thead th {\n",
       "        text-align: right;\n",
       "    }\n",
       "</style>\n",
       "<table border=\"1\" class=\"dataframe\">\n",
       "  <thead>\n",
       "    <tr style=\"text-align: right;\">\n",
       "      <th></th>\n",
       "      <th>Menciones</th>\n",
       "      <th>target</th>\n",
       "      <th>0</th>\n",
       "      <th>1</th>\n",
       "      <th>2</th>\n",
       "      <th>3</th>\n",
       "      <th>4</th>\n",
       "      <th>5</th>\n",
       "      <th>6</th>\n",
       "      <th>7</th>\n",
       "    </tr>\n",
       "  </thead>\n",
       "  <tbody>\n",
       "    <tr>\n",
       "      <th>31</th>\n",
       "      <td>[@bbcmtd]</td>\n",
       "      <td>1</td>\n",
       "      <td>@bbcmtd</td>\n",
       "      <td>NaN</td>\n",
       "      <td>NaN</td>\n",
       "      <td>NaN</td>\n",
       "      <td>NaN</td>\n",
       "      <td>NaN</td>\n",
       "      <td>NaN</td>\n",
       "      <td>NaN</td>\n",
       "    </tr>\n",
       "    <tr>\n",
       "      <th>36</th>\n",
       "      <td>[@PhDSquares]</td>\n",
       "      <td>0</td>\n",
       "      <td>@PhDSquares</td>\n",
       "      <td>NaN</td>\n",
       "      <td>NaN</td>\n",
       "      <td>NaN</td>\n",
       "      <td>NaN</td>\n",
       "      <td>NaN</td>\n",
       "      <td>NaN</td>\n",
       "      <td>NaN</td>\n",
       "    </tr>\n",
       "    <tr>\n",
       "      <th>43</th>\n",
       "      <td>[@southridgelife]</td>\n",
       "      <td>0</td>\n",
       "      <td>@southridgelife</td>\n",
       "      <td>NaN</td>\n",
       "      <td>NaN</td>\n",
       "      <td>NaN</td>\n",
       "      <td>NaN</td>\n",
       "      <td>NaN</td>\n",
       "      <td>NaN</td>\n",
       "      <td>NaN</td>\n",
       "    </tr>\n",
       "    <tr>\n",
       "      <th>54</th>\n",
       "      <td>[@Alexis_Sanchez]</td>\n",
       "      <td>0</td>\n",
       "      <td>@Alexis_Sanchez</td>\n",
       "      <td>NaN</td>\n",
       "      <td>NaN</td>\n",
       "      <td>NaN</td>\n",
       "      <td>NaN</td>\n",
       "      <td>NaN</td>\n",
       "      <td>NaN</td>\n",
       "      <td>NaN</td>\n",
       "    </tr>\n",
       "    <tr>\n",
       "      <th>63</th>\n",
       "      <td>[@News24680, @Navista7]</td>\n",
       "      <td>1</td>\n",
       "      <td>@News24680</td>\n",
       "      <td>@Navista7</td>\n",
       "      <td>NaN</td>\n",
       "      <td>NaN</td>\n",
       "      <td>NaN</td>\n",
       "      <td>NaN</td>\n",
       "      <td>NaN</td>\n",
       "      <td>NaN</td>\n",
       "    </tr>\n",
       "  </tbody>\n",
       "</table>\n",
       "</div>"
      ],
      "text/plain": [
       "                  Menciones  target                0          1    2    3  \\\n",
       "31                [@bbcmtd]       1          @bbcmtd        NaN  NaN  NaN   \n",
       "36            [@PhDSquares]       0      @PhDSquares        NaN  NaN  NaN   \n",
       "43        [@southridgelife]       0  @southridgelife        NaN  NaN  NaN   \n",
       "54        [@Alexis_Sanchez]       0  @Alexis_Sanchez        NaN  NaN  NaN   \n",
       "63  [@News24680, @Navista7]       1       @News24680  @Navista7  NaN  NaN   \n",
       "\n",
       "      4    5    6    7  \n",
       "31  NaN  NaN  NaN  NaN  \n",
       "36  NaN  NaN  NaN  NaN  \n",
       "43  NaN  NaN  NaN  NaN  \n",
       "54  NaN  NaN  NaN  NaN  \n",
       "63  NaN  NaN  NaN  NaN  "
      ]
     },
     "execution_count": 20,
     "metadata": {},
     "output_type": "execute_result"
    }
   ],
   "source": [
    "menciones_separadas = pd.concat([menciones,menciones[\"Menciones\"].apply(lambda x: pd.Series(x))],axis=1)\n",
    "menciones_separadas.head()\n",
    "#menciones_separadas.loc[~menciones_separadas[3].isna()]"
   ]
  },
  {
   "cell_type": "markdown",
   "metadata": {},
   "source": [
    "#### Palabras en las menciones"
   ]
  },
  {
   "cell_type": "code",
   "execution_count": 21,
   "metadata": {},
   "outputs": [
    {
     "ename": "LookupError",
     "evalue": "\n**********************************************************************\n  Resource \u001b[93mpunkt\u001b[0m not found.\n  Please use the NLTK Downloader to obtain the resource:\n\n  \u001b[31m>>> import nltk\n  >>> nltk.download('punkt')\n  \u001b[0m\n  Searched in:\n    - 'C:\\\\Users\\\\No/nltk_data'\n    - 'C:\\\\nltk_data'\n    - 'D:\\\\nltk_data'\n    - 'E:\\\\nltk_data'\n    - 'C:\\\\Users\\\\No\\\\Anaconda3\\\\nltk_data'\n    - 'C:\\\\Users\\\\No\\\\Anaconda3\\\\lib\\\\nltk_data'\n    - 'C:\\\\Users\\\\No\\\\AppData\\\\Roaming\\\\nltk_data'\n    - ''\n**********************************************************************\n",
     "output_type": "error",
     "traceback": [
      "\u001b[1;31m---------------------------------------------------------------------------\u001b[0m",
      "\u001b[1;31mLookupError\u001b[0m                               Traceback (most recent call last)",
      "\u001b[1;32m<ipython-input-21-c5d9b8b7ceb4>\u001b[0m in \u001b[0;36m<module>\u001b[1;34m()\u001b[0m\n\u001b[0;32m      1\u001b[0m \u001b[1;31m#[re.findall('[A-Z][^A-Z]*', x) for x in menciones[\"Menciones\"].sum()]\u001b[0m\u001b[1;33m\u001b[0m\u001b[1;33m\u001b[0m\u001b[0m\n\u001b[0;32m      2\u001b[0m \u001b[1;32mimport\u001b[0m \u001b[0mnltk\u001b[0m\u001b[1;33m\u001b[0m\u001b[0m\n\u001b[1;32m----> 3\u001b[1;33m \u001b[1;33m[\u001b[0m\u001b[0mnltk\u001b[0m\u001b[1;33m.\u001b[0m\u001b[0mword_tokenize\u001b[0m\u001b[1;33m(\u001b[0m\u001b[0mx\u001b[0m\u001b[1;33m)\u001b[0m \u001b[1;32mfor\u001b[0m \u001b[0mx\u001b[0m \u001b[1;32min\u001b[0m \u001b[0mmenciones\u001b[0m\u001b[1;33m[\u001b[0m\u001b[1;34m\"Menciones\"\u001b[0m\u001b[1;33m]\u001b[0m\u001b[1;33m.\u001b[0m\u001b[0msum\u001b[0m\u001b[1;33m(\u001b[0m\u001b[1;33m)\u001b[0m\u001b[1;33m]\u001b[0m\u001b[1;33m\u001b[0m\u001b[0m\n\u001b[0m",
      "\u001b[1;32m<ipython-input-21-c5d9b8b7ceb4>\u001b[0m in \u001b[0;36m<listcomp>\u001b[1;34m(.0)\u001b[0m\n\u001b[0;32m      1\u001b[0m \u001b[1;31m#[re.findall('[A-Z][^A-Z]*', x) for x in menciones[\"Menciones\"].sum()]\u001b[0m\u001b[1;33m\u001b[0m\u001b[1;33m\u001b[0m\u001b[0m\n\u001b[0;32m      2\u001b[0m \u001b[1;32mimport\u001b[0m \u001b[0mnltk\u001b[0m\u001b[1;33m\u001b[0m\u001b[0m\n\u001b[1;32m----> 3\u001b[1;33m \u001b[1;33m[\u001b[0m\u001b[0mnltk\u001b[0m\u001b[1;33m.\u001b[0m\u001b[0mword_tokenize\u001b[0m\u001b[1;33m(\u001b[0m\u001b[0mx\u001b[0m\u001b[1;33m)\u001b[0m \u001b[1;32mfor\u001b[0m \u001b[0mx\u001b[0m \u001b[1;32min\u001b[0m \u001b[0mmenciones\u001b[0m\u001b[1;33m[\u001b[0m\u001b[1;34m\"Menciones\"\u001b[0m\u001b[1;33m]\u001b[0m\u001b[1;33m.\u001b[0m\u001b[0msum\u001b[0m\u001b[1;33m(\u001b[0m\u001b[1;33m)\u001b[0m\u001b[1;33m]\u001b[0m\u001b[1;33m\u001b[0m\u001b[0m\n\u001b[0m",
      "\u001b[1;32m~\\Anaconda3\\lib\\site-packages\\nltk\\tokenize\\__init__.py\u001b[0m in \u001b[0;36mword_tokenize\u001b[1;34m(text, language, preserve_line)\u001b[0m\n\u001b[0;32m    126\u001b[0m     \u001b[1;33m:\u001b[0m\u001b[0mtype\u001b[0m \u001b[0mpreserver_line\u001b[0m\u001b[1;33m:\u001b[0m \u001b[0mbool\u001b[0m\u001b[1;33m\u001b[0m\u001b[0m\n\u001b[0;32m    127\u001b[0m     \"\"\"\n\u001b[1;32m--> 128\u001b[1;33m     \u001b[0msentences\u001b[0m \u001b[1;33m=\u001b[0m \u001b[1;33m[\u001b[0m\u001b[0mtext\u001b[0m\u001b[1;33m]\u001b[0m \u001b[1;32mif\u001b[0m \u001b[0mpreserve_line\u001b[0m \u001b[1;32melse\u001b[0m \u001b[0msent_tokenize\u001b[0m\u001b[1;33m(\u001b[0m\u001b[0mtext\u001b[0m\u001b[1;33m,\u001b[0m \u001b[0mlanguage\u001b[0m\u001b[1;33m)\u001b[0m\u001b[1;33m\u001b[0m\u001b[0m\n\u001b[0m\u001b[0;32m    129\u001b[0m     return [token for sent in sentences\n\u001b[0;32m    130\u001b[0m             for token in _treebank_word_tokenizer.tokenize(sent)]\n",
      "\u001b[1;32m~\\Anaconda3\\lib\\site-packages\\nltk\\tokenize\\__init__.py\u001b[0m in \u001b[0;36msent_tokenize\u001b[1;34m(text, language)\u001b[0m\n\u001b[0;32m     92\u001b[0m     \u001b[1;33m:\u001b[0m\u001b[0mparam\u001b[0m \u001b[0mlanguage\u001b[0m\u001b[1;33m:\u001b[0m \u001b[0mthe\u001b[0m \u001b[0mmodel\u001b[0m \u001b[0mname\u001b[0m \u001b[1;32min\u001b[0m \u001b[0mthe\u001b[0m \u001b[0mPunkt\u001b[0m \u001b[0mcorpus\u001b[0m\u001b[1;33m\u001b[0m\u001b[0m\n\u001b[0;32m     93\u001b[0m     \"\"\"\n\u001b[1;32m---> 94\u001b[1;33m     \u001b[0mtokenizer\u001b[0m \u001b[1;33m=\u001b[0m \u001b[0mload\u001b[0m\u001b[1;33m(\u001b[0m\u001b[1;34m'tokenizers/punkt/{0}.pickle'\u001b[0m\u001b[1;33m.\u001b[0m\u001b[0mformat\u001b[0m\u001b[1;33m(\u001b[0m\u001b[0mlanguage\u001b[0m\u001b[1;33m)\u001b[0m\u001b[1;33m)\u001b[0m\u001b[1;33m\u001b[0m\u001b[0m\n\u001b[0m\u001b[0;32m     95\u001b[0m     \u001b[1;32mreturn\u001b[0m \u001b[0mtokenizer\u001b[0m\u001b[1;33m.\u001b[0m\u001b[0mtokenize\u001b[0m\u001b[1;33m(\u001b[0m\u001b[0mtext\u001b[0m\u001b[1;33m)\u001b[0m\u001b[1;33m\u001b[0m\u001b[0m\n\u001b[0;32m     96\u001b[0m \u001b[1;33m\u001b[0m\u001b[0m\n",
      "\u001b[1;32m~\\Anaconda3\\lib\\site-packages\\nltk\\data.py\u001b[0m in \u001b[0;36mload\u001b[1;34m(resource_url, format, cache, verbose, logic_parser, fstruct_reader, encoding)\u001b[0m\n\u001b[0;32m    832\u001b[0m \u001b[1;33m\u001b[0m\u001b[0m\n\u001b[0;32m    833\u001b[0m     \u001b[1;31m# Load the resource.\u001b[0m\u001b[1;33m\u001b[0m\u001b[1;33m\u001b[0m\u001b[0m\n\u001b[1;32m--> 834\u001b[1;33m     \u001b[0mopened_resource\u001b[0m \u001b[1;33m=\u001b[0m \u001b[0m_open\u001b[0m\u001b[1;33m(\u001b[0m\u001b[0mresource_url\u001b[0m\u001b[1;33m)\u001b[0m\u001b[1;33m\u001b[0m\u001b[0m\n\u001b[0m\u001b[0;32m    835\u001b[0m \u001b[1;33m\u001b[0m\u001b[0m\n\u001b[0;32m    836\u001b[0m     \u001b[1;32mif\u001b[0m \u001b[0mformat\u001b[0m \u001b[1;33m==\u001b[0m \u001b[1;34m'raw'\u001b[0m\u001b[1;33m:\u001b[0m\u001b[1;33m\u001b[0m\u001b[0m\n",
      "\u001b[1;32m~\\Anaconda3\\lib\\site-packages\\nltk\\data.py\u001b[0m in \u001b[0;36m_open\u001b[1;34m(resource_url)\u001b[0m\n\u001b[0;32m    950\u001b[0m \u001b[1;33m\u001b[0m\u001b[0m\n\u001b[0;32m    951\u001b[0m     \u001b[1;32mif\u001b[0m \u001b[0mprotocol\u001b[0m \u001b[1;32mis\u001b[0m \u001b[1;32mNone\u001b[0m \u001b[1;32mor\u001b[0m \u001b[0mprotocol\u001b[0m\u001b[1;33m.\u001b[0m\u001b[0mlower\u001b[0m\u001b[1;33m(\u001b[0m\u001b[1;33m)\u001b[0m \u001b[1;33m==\u001b[0m \u001b[1;34m'nltk'\u001b[0m\u001b[1;33m:\u001b[0m\u001b[1;33m\u001b[0m\u001b[0m\n\u001b[1;32m--> 952\u001b[1;33m         \u001b[1;32mreturn\u001b[0m \u001b[0mfind\u001b[0m\u001b[1;33m(\u001b[0m\u001b[0mpath_\u001b[0m\u001b[1;33m,\u001b[0m \u001b[0mpath\u001b[0m \u001b[1;33m+\u001b[0m \u001b[1;33m[\u001b[0m\u001b[1;34m''\u001b[0m\u001b[1;33m]\u001b[0m\u001b[1;33m)\u001b[0m\u001b[1;33m.\u001b[0m\u001b[0mopen\u001b[0m\u001b[1;33m(\u001b[0m\u001b[1;33m)\u001b[0m\u001b[1;33m\u001b[0m\u001b[0m\n\u001b[0m\u001b[0;32m    953\u001b[0m     \u001b[1;32melif\u001b[0m \u001b[0mprotocol\u001b[0m\u001b[1;33m.\u001b[0m\u001b[0mlower\u001b[0m\u001b[1;33m(\u001b[0m\u001b[1;33m)\u001b[0m \u001b[1;33m==\u001b[0m \u001b[1;34m'file'\u001b[0m\u001b[1;33m:\u001b[0m\u001b[1;33m\u001b[0m\u001b[0m\n\u001b[0;32m    954\u001b[0m         \u001b[1;31m# urllib might not use mode='rb', so handle this one ourselves:\u001b[0m\u001b[1;33m\u001b[0m\u001b[1;33m\u001b[0m\u001b[0m\n",
      "\u001b[1;32m~\\Anaconda3\\lib\\site-packages\\nltk\\data.py\u001b[0m in \u001b[0;36mfind\u001b[1;34m(resource_name, paths)\u001b[0m\n\u001b[0;32m    671\u001b[0m     \u001b[0msep\u001b[0m \u001b[1;33m=\u001b[0m \u001b[1;34m'*'\u001b[0m \u001b[1;33m*\u001b[0m \u001b[1;36m70\u001b[0m\u001b[1;33m\u001b[0m\u001b[0m\n\u001b[0;32m    672\u001b[0m     \u001b[0mresource_not_found\u001b[0m \u001b[1;33m=\u001b[0m \u001b[1;34m'\\n%s\\n%s\\n%s\\n'\u001b[0m \u001b[1;33m%\u001b[0m \u001b[1;33m(\u001b[0m\u001b[0msep\u001b[0m\u001b[1;33m,\u001b[0m \u001b[0mmsg\u001b[0m\u001b[1;33m,\u001b[0m \u001b[0msep\u001b[0m\u001b[1;33m)\u001b[0m\u001b[1;33m\u001b[0m\u001b[0m\n\u001b[1;32m--> 673\u001b[1;33m     \u001b[1;32mraise\u001b[0m \u001b[0mLookupError\u001b[0m\u001b[1;33m(\u001b[0m\u001b[0mresource_not_found\u001b[0m\u001b[1;33m)\u001b[0m\u001b[1;33m\u001b[0m\u001b[0m\n\u001b[0m\u001b[0;32m    674\u001b[0m \u001b[1;33m\u001b[0m\u001b[0m\n\u001b[0;32m    675\u001b[0m \u001b[1;33m\u001b[0m\u001b[0m\n",
      "\u001b[1;31mLookupError\u001b[0m: \n**********************************************************************\n  Resource \u001b[93mpunkt\u001b[0m not found.\n  Please use the NLTK Downloader to obtain the resource:\n\n  \u001b[31m>>> import nltk\n  >>> nltk.download('punkt')\n  \u001b[0m\n  Searched in:\n    - 'C:\\\\Users\\\\No/nltk_data'\n    - 'C:\\\\nltk_data'\n    - 'D:\\\\nltk_data'\n    - 'E:\\\\nltk_data'\n    - 'C:\\\\Users\\\\No\\\\Anaconda3\\\\nltk_data'\n    - 'C:\\\\Users\\\\No\\\\Anaconda3\\\\lib\\\\nltk_data'\n    - 'C:\\\\Users\\\\No\\\\AppData\\\\Roaming\\\\nltk_data'\n    - ''\n**********************************************************************\n"
     ]
    }
   ],
   "source": [
    "#[re.findall('[A-Z][^A-Z]*', x) for x in menciones[\"Menciones\"].sum()]\n",
    "import nltk\n",
    "[nltk.word_tokenize(x) for x in menciones[\"Menciones\"].sum()]"
   ]
  }
 ],
 "metadata": {
  "kernelspec": {
   "display_name": "Python 3",
   "language": "python",
   "name": "python3"
  },
  "language_info": {
   "codemirror_mode": {
    "name": "ipython",
    "version": 3
   },
   "file_extension": ".py",
   "mimetype": "text/x-python",
   "name": "python",
   "nbconvert_exporter": "python",
   "pygments_lexer": "ipython3",
   "version": "3.6.4"
  }
 },
 "nbformat": 4,
 "nbformat_minor": 2
}
